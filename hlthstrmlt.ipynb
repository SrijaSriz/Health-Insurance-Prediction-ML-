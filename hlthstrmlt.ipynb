{
  "nbformat": 4,
  "nbformat_minor": 0,
  "metadata": {
    "colab": {
      "provenance": []
    },
    "kernelspec": {
      "name": "python3",
      "display_name": "Python 3"
    },
    "language_info": {
      "name": "python"
    }
  },
  "cells": [
    {
      "cell_type": "code",
      "execution_count": null,
      "metadata": {
        "id": "ObPm1CIyg7MG"
      },
      "outputs": [],
      "source": []
    },
    {
      "cell_type": "markdown",
      "source": [
        "# **Predicting Health Insurance Price for an individual or family**"
      ],
      "metadata": {
        "id": "rr21ggXJfY9m"
      }
    },
    {
      "cell_type": "markdown",
      "source": [
        "*** Why is this proposal important in today’s world? How predicting a health\n",
        "insurance cost\n",
        "accurately can affect the health care/insurance field ?***\n",
        "\n",
        "*   **COST OPTIMIZATION**:  Accurate prediction helps in setting price based on risk, which helps from driving customers away or  resulting in loss.\n",
        "*  **HEALTHCARE PLANNING**:support policymakers and providers in planning budget.\n",
        "*  Helps design personalized plans.\n",
        "*  Enhances customer satisfaction by offering more predictable pricing.\n",
        "\n",
        "\n"
      ],
      "metadata": {
        "id": "I15yF-dNgX41"
      }
    },
    {
      "cell_type": "code",
      "source": [],
      "metadata": {
        "id": "yGYEyvbc4D6b"
      },
      "execution_count": null,
      "outputs": []
    },
    {
      "cell_type": "markdown",
      "source": [
        "***If any, what is the gap in the knowledge, or how your proposed method can be helpful if required\n",
        "in the future for any other type of insurance?***\n",
        "\n",
        "\n",
        "\n",
        "*  Real-time dynamic pricing is better than Traditional pricing as outdated models or human assumptions may not be more accurate.\n",
        "\n",
        "\n",
        "*   Using ML to learn relationships from diverse factors (e.g., smoker status, BMI).\n",
        "\n"
      ],
      "metadata": {
        "id": "TOetfrGxiwRK"
      }
    },
    {
      "cell_type": "markdown",
      "source": [
        "**Please aim to identify patterns in the data and important features that may impact an ML model.**\n",
        "\n",
        "\n",
        "\n",
        "\n",
        "\n",
        "*  AGE:  May increase price with price.\n",
        "\n",
        "*  BMI: Higher BMI → higher risk → higher charges.\n",
        "\n",
        "*  Smoker: Major cost factor..\n",
        "\n",
        "*  Children: Family size may increase cost.\n",
        "\n",
        "\n",
        "*  Region: May vary in trends.\n",
        "\n",
        "\n",
        "*  Sex: May not have much impact.\n",
        "\n"
      ],
      "metadata": {
        "id": "GBmNFl_qle9I"
      }
    },
    {
      "cell_type": "markdown",
      "source": [
        "**Target Variable (Dependent Variable)**: Health_insurance_price"
      ],
      "metadata": {
        "id": "BwLuQOsHonY5"
      }
    },
    {
      "cell_type": "markdown",
      "source": [
        "# ***Data Understanding or Exploratory data analysis(EDA)***"
      ],
      "metadata": {
        "id": "skvOcB0Mzpuw"
      }
    },
    {
      "cell_type": "markdown",
      "source": [
        "Importing libraries"
      ],
      "metadata": {
        "id": "mQ7luLRy72MQ"
      }
    },
    {
      "cell_type": "code",
      "execution_count": 1,
      "metadata": {
        "id": "hNrPGDFL5zSJ"
      },
      "outputs": [],
      "source": [
        "import pandas as pd\n",
        "import numpy as np\n",
        "import matplotlib.pyplot as plt\n",
        "import seaborn as sns"
      ]
    },
    {
      "cell_type": "markdown",
      "source": [
        "Reading Data set"
      ],
      "metadata": {
        "id": "Z--XSa2I7-LH"
      }
    },
    {
      "cell_type": "code",
      "source": [
        "hdf=pd.read_excel(\"/content/4021579-Health_insurance_cost (2).xlsx\")"
      ],
      "metadata": {
        "id": "3t9suN2q6tCk"
      },
      "execution_count": 3,
      "outputs": []
    },
    {
      "cell_type": "markdown",
      "source": [
        "viewing top 10 rows"
      ],
      "metadata": {
        "id": "ZaHlc-J38HeQ"
      }
    },
    {
      "cell_type": "code",
      "source": [
        "print(\"First 10 rows of the dataset:\")\n",
        "hdf.head(10)"
      ],
      "metadata": {
        "colab": {
          "base_uri": "https://localhost:8080/",
          "height": 380
        },
        "id": "JyKRAiCM8PCw",
        "outputId": "85ced9ab-1bb4-4cbf-f568-83fb2fe92120",
        "collapsed": true
      },
      "execution_count": 4,
      "outputs": [
        {
          "output_type": "stream",
          "name": "stdout",
          "text": [
            "First 10 rows of the dataset:\n"
          ]
        },
        {
          "output_type": "execute_result",
          "data": {
            "text/plain": [
              "    age  gender     BMI  Children smoking_status   location  \\\n",
              "0  19.0  female     NaN         0            yes  southwest   \n",
              "1  18.0    male  33.770         1             no  southeast   \n",
              "2  28.0    male  33.000         3             no  southeast   \n",
              "3  33.0    male  22.705         0             no  northwest   \n",
              "4  32.0    male  28.880         0             no  northwest   \n",
              "5  31.0  female  25.740         0             no  southeast   \n",
              "6  46.0  female  33.440         1             no  southeast   \n",
              "7  37.0  female  27.740         3             no  northwest   \n",
              "8  37.0    male  29.830         2             no  northeast   \n",
              "9  60.0  female  25.840         0             no  northwest   \n",
              "\n",
              "   health_insurance_price  \n",
              "0             16884.92400  \n",
              "1              1725.55230  \n",
              "2              4449.46200  \n",
              "3             21984.47061  \n",
              "4              3866.85520  \n",
              "5              3756.62160  \n",
              "6              8240.58960  \n",
              "7              7281.50560  \n",
              "8              6406.41070  \n",
              "9             28923.13692  "
            ],
            "text/html": [
              "\n",
              "  <div id=\"df-5dfa37e9-37ea-4862-9ff2-ddcb5dda1bff\" class=\"colab-df-container\">\n",
              "    <div>\n",
              "<style scoped>\n",
              "    .dataframe tbody tr th:only-of-type {\n",
              "        vertical-align: middle;\n",
              "    }\n",
              "\n",
              "    .dataframe tbody tr th {\n",
              "        vertical-align: top;\n",
              "    }\n",
              "\n",
              "    .dataframe thead th {\n",
              "        text-align: right;\n",
              "    }\n",
              "</style>\n",
              "<table border=\"1\" class=\"dataframe\">\n",
              "  <thead>\n",
              "    <tr style=\"text-align: right;\">\n",
              "      <th></th>\n",
              "      <th>age</th>\n",
              "      <th>gender</th>\n",
              "      <th>BMI</th>\n",
              "      <th>Children</th>\n",
              "      <th>smoking_status</th>\n",
              "      <th>location</th>\n",
              "      <th>health_insurance_price</th>\n",
              "    </tr>\n",
              "  </thead>\n",
              "  <tbody>\n",
              "    <tr>\n",
              "      <th>0</th>\n",
              "      <td>19.0</td>\n",
              "      <td>female</td>\n",
              "      <td>NaN</td>\n",
              "      <td>0</td>\n",
              "      <td>yes</td>\n",
              "      <td>southwest</td>\n",
              "      <td>16884.92400</td>\n",
              "    </tr>\n",
              "    <tr>\n",
              "      <th>1</th>\n",
              "      <td>18.0</td>\n",
              "      <td>male</td>\n",
              "      <td>33.770</td>\n",
              "      <td>1</td>\n",
              "      <td>no</td>\n",
              "      <td>southeast</td>\n",
              "      <td>1725.55230</td>\n",
              "    </tr>\n",
              "    <tr>\n",
              "      <th>2</th>\n",
              "      <td>28.0</td>\n",
              "      <td>male</td>\n",
              "      <td>33.000</td>\n",
              "      <td>3</td>\n",
              "      <td>no</td>\n",
              "      <td>southeast</td>\n",
              "      <td>4449.46200</td>\n",
              "    </tr>\n",
              "    <tr>\n",
              "      <th>3</th>\n",
              "      <td>33.0</td>\n",
              "      <td>male</td>\n",
              "      <td>22.705</td>\n",
              "      <td>0</td>\n",
              "      <td>no</td>\n",
              "      <td>northwest</td>\n",
              "      <td>21984.47061</td>\n",
              "    </tr>\n",
              "    <tr>\n",
              "      <th>4</th>\n",
              "      <td>32.0</td>\n",
              "      <td>male</td>\n",
              "      <td>28.880</td>\n",
              "      <td>0</td>\n",
              "      <td>no</td>\n",
              "      <td>northwest</td>\n",
              "      <td>3866.85520</td>\n",
              "    </tr>\n",
              "    <tr>\n",
              "      <th>5</th>\n",
              "      <td>31.0</td>\n",
              "      <td>female</td>\n",
              "      <td>25.740</td>\n",
              "      <td>0</td>\n",
              "      <td>no</td>\n",
              "      <td>southeast</td>\n",
              "      <td>3756.62160</td>\n",
              "    </tr>\n",
              "    <tr>\n",
              "      <th>6</th>\n",
              "      <td>46.0</td>\n",
              "      <td>female</td>\n",
              "      <td>33.440</td>\n",
              "      <td>1</td>\n",
              "      <td>no</td>\n",
              "      <td>southeast</td>\n",
              "      <td>8240.58960</td>\n",
              "    </tr>\n",
              "    <tr>\n",
              "      <th>7</th>\n",
              "      <td>37.0</td>\n",
              "      <td>female</td>\n",
              "      <td>27.740</td>\n",
              "      <td>3</td>\n",
              "      <td>no</td>\n",
              "      <td>northwest</td>\n",
              "      <td>7281.50560</td>\n",
              "    </tr>\n",
              "    <tr>\n",
              "      <th>8</th>\n",
              "      <td>37.0</td>\n",
              "      <td>male</td>\n",
              "      <td>29.830</td>\n",
              "      <td>2</td>\n",
              "      <td>no</td>\n",
              "      <td>northeast</td>\n",
              "      <td>6406.41070</td>\n",
              "    </tr>\n",
              "    <tr>\n",
              "      <th>9</th>\n",
              "      <td>60.0</td>\n",
              "      <td>female</td>\n",
              "      <td>25.840</td>\n",
              "      <td>0</td>\n",
              "      <td>no</td>\n",
              "      <td>northwest</td>\n",
              "      <td>28923.13692</td>\n",
              "    </tr>\n",
              "  </tbody>\n",
              "</table>\n",
              "</div>\n",
              "    <div class=\"colab-df-buttons\">\n",
              "\n",
              "  <div class=\"colab-df-container\">\n",
              "    <button class=\"colab-df-convert\" onclick=\"convertToInteractive('df-5dfa37e9-37ea-4862-9ff2-ddcb5dda1bff')\"\n",
              "            title=\"Convert this dataframe to an interactive table.\"\n",
              "            style=\"display:none;\">\n",
              "\n",
              "  <svg xmlns=\"http://www.w3.org/2000/svg\" height=\"24px\" viewBox=\"0 -960 960 960\">\n",
              "    <path d=\"M120-120v-720h720v720H120Zm60-500h600v-160H180v160Zm220 220h160v-160H400v160Zm0 220h160v-160H400v160ZM180-400h160v-160H180v160Zm440 0h160v-160H620v160ZM180-180h160v-160H180v160Zm440 0h160v-160H620v160Z\"/>\n",
              "  </svg>\n",
              "    </button>\n",
              "\n",
              "  <style>\n",
              "    .colab-df-container {\n",
              "      display:flex;\n",
              "      gap: 12px;\n",
              "    }\n",
              "\n",
              "    .colab-df-convert {\n",
              "      background-color: #E8F0FE;\n",
              "      border: none;\n",
              "      border-radius: 50%;\n",
              "      cursor: pointer;\n",
              "      display: none;\n",
              "      fill: #1967D2;\n",
              "      height: 32px;\n",
              "      padding: 0 0 0 0;\n",
              "      width: 32px;\n",
              "    }\n",
              "\n",
              "    .colab-df-convert:hover {\n",
              "      background-color: #E2EBFA;\n",
              "      box-shadow: 0px 1px 2px rgba(60, 64, 67, 0.3), 0px 1px 3px 1px rgba(60, 64, 67, 0.15);\n",
              "      fill: #174EA6;\n",
              "    }\n",
              "\n",
              "    .colab-df-buttons div {\n",
              "      margin-bottom: 4px;\n",
              "    }\n",
              "\n",
              "    [theme=dark] .colab-df-convert {\n",
              "      background-color: #3B4455;\n",
              "      fill: #D2E3FC;\n",
              "    }\n",
              "\n",
              "    [theme=dark] .colab-df-convert:hover {\n",
              "      background-color: #434B5C;\n",
              "      box-shadow: 0px 1px 3px 1px rgba(0, 0, 0, 0.15);\n",
              "      filter: drop-shadow(0px 1px 2px rgba(0, 0, 0, 0.3));\n",
              "      fill: #FFFFFF;\n",
              "    }\n",
              "  </style>\n",
              "\n",
              "    <script>\n",
              "      const buttonEl =\n",
              "        document.querySelector('#df-5dfa37e9-37ea-4862-9ff2-ddcb5dda1bff button.colab-df-convert');\n",
              "      buttonEl.style.display =\n",
              "        google.colab.kernel.accessAllowed ? 'block' : 'none';\n",
              "\n",
              "      async function convertToInteractive(key) {\n",
              "        const element = document.querySelector('#df-5dfa37e9-37ea-4862-9ff2-ddcb5dda1bff');\n",
              "        const dataTable =\n",
              "          await google.colab.kernel.invokeFunction('convertToInteractive',\n",
              "                                                    [key], {});\n",
              "        if (!dataTable) return;\n",
              "\n",
              "        const docLinkHtml = 'Like what you see? Visit the ' +\n",
              "          '<a target=\"_blank\" href=https://colab.research.google.com/notebooks/data_table.ipynb>data table notebook</a>'\n",
              "          + ' to learn more about interactive tables.';\n",
              "        element.innerHTML = '';\n",
              "        dataTable['output_type'] = 'display_data';\n",
              "        await google.colab.output.renderOutput(dataTable, element);\n",
              "        const docLink = document.createElement('div');\n",
              "        docLink.innerHTML = docLinkHtml;\n",
              "        element.appendChild(docLink);\n",
              "      }\n",
              "    </script>\n",
              "  </div>\n",
              "\n",
              "\n",
              "    <div id=\"df-d957096d-c727-411d-914e-06e6c34b821d\">\n",
              "      <button class=\"colab-df-quickchart\" onclick=\"quickchart('df-d957096d-c727-411d-914e-06e6c34b821d')\"\n",
              "                title=\"Suggest charts\"\n",
              "                style=\"display:none;\">\n",
              "\n",
              "<svg xmlns=\"http://www.w3.org/2000/svg\" height=\"24px\"viewBox=\"0 0 24 24\"\n",
              "     width=\"24px\">\n",
              "    <g>\n",
              "        <path d=\"M19 3H5c-1.1 0-2 .9-2 2v14c0 1.1.9 2 2 2h14c1.1 0 2-.9 2-2V5c0-1.1-.9-2-2-2zM9 17H7v-7h2v7zm4 0h-2V7h2v10zm4 0h-2v-4h2v4z\"/>\n",
              "    </g>\n",
              "</svg>\n",
              "      </button>\n",
              "\n",
              "<style>\n",
              "  .colab-df-quickchart {\n",
              "      --bg-color: #E8F0FE;\n",
              "      --fill-color: #1967D2;\n",
              "      --hover-bg-color: #E2EBFA;\n",
              "      --hover-fill-color: #174EA6;\n",
              "      --disabled-fill-color: #AAA;\n",
              "      --disabled-bg-color: #DDD;\n",
              "  }\n",
              "\n",
              "  [theme=dark] .colab-df-quickchart {\n",
              "      --bg-color: #3B4455;\n",
              "      --fill-color: #D2E3FC;\n",
              "      --hover-bg-color: #434B5C;\n",
              "      --hover-fill-color: #FFFFFF;\n",
              "      --disabled-bg-color: #3B4455;\n",
              "      --disabled-fill-color: #666;\n",
              "  }\n",
              "\n",
              "  .colab-df-quickchart {\n",
              "    background-color: var(--bg-color);\n",
              "    border: none;\n",
              "    border-radius: 50%;\n",
              "    cursor: pointer;\n",
              "    display: none;\n",
              "    fill: var(--fill-color);\n",
              "    height: 32px;\n",
              "    padding: 0;\n",
              "    width: 32px;\n",
              "  }\n",
              "\n",
              "  .colab-df-quickchart:hover {\n",
              "    background-color: var(--hover-bg-color);\n",
              "    box-shadow: 0 1px 2px rgba(60, 64, 67, 0.3), 0 1px 3px 1px rgba(60, 64, 67, 0.15);\n",
              "    fill: var(--button-hover-fill-color);\n",
              "  }\n",
              "\n",
              "  .colab-df-quickchart-complete:disabled,\n",
              "  .colab-df-quickchart-complete:disabled:hover {\n",
              "    background-color: var(--disabled-bg-color);\n",
              "    fill: var(--disabled-fill-color);\n",
              "    box-shadow: none;\n",
              "  }\n",
              "\n",
              "  .colab-df-spinner {\n",
              "    border: 2px solid var(--fill-color);\n",
              "    border-color: transparent;\n",
              "    border-bottom-color: var(--fill-color);\n",
              "    animation:\n",
              "      spin 1s steps(1) infinite;\n",
              "  }\n",
              "\n",
              "  @keyframes spin {\n",
              "    0% {\n",
              "      border-color: transparent;\n",
              "      border-bottom-color: var(--fill-color);\n",
              "      border-left-color: var(--fill-color);\n",
              "    }\n",
              "    20% {\n",
              "      border-color: transparent;\n",
              "      border-left-color: var(--fill-color);\n",
              "      border-top-color: var(--fill-color);\n",
              "    }\n",
              "    30% {\n",
              "      border-color: transparent;\n",
              "      border-left-color: var(--fill-color);\n",
              "      border-top-color: var(--fill-color);\n",
              "      border-right-color: var(--fill-color);\n",
              "    }\n",
              "    40% {\n",
              "      border-color: transparent;\n",
              "      border-right-color: var(--fill-color);\n",
              "      border-top-color: var(--fill-color);\n",
              "    }\n",
              "    60% {\n",
              "      border-color: transparent;\n",
              "      border-right-color: var(--fill-color);\n",
              "    }\n",
              "    80% {\n",
              "      border-color: transparent;\n",
              "      border-right-color: var(--fill-color);\n",
              "      border-bottom-color: var(--fill-color);\n",
              "    }\n",
              "    90% {\n",
              "      border-color: transparent;\n",
              "      border-bottom-color: var(--fill-color);\n",
              "    }\n",
              "  }\n",
              "</style>\n",
              "\n",
              "      <script>\n",
              "        async function quickchart(key) {\n",
              "          const quickchartButtonEl =\n",
              "            document.querySelector('#' + key + ' button');\n",
              "          quickchartButtonEl.disabled = true;  // To prevent multiple clicks.\n",
              "          quickchartButtonEl.classList.add('colab-df-spinner');\n",
              "          try {\n",
              "            const charts = await google.colab.kernel.invokeFunction(\n",
              "                'suggestCharts', [key], {});\n",
              "          } catch (error) {\n",
              "            console.error('Error during call to suggestCharts:', error);\n",
              "          }\n",
              "          quickchartButtonEl.classList.remove('colab-df-spinner');\n",
              "          quickchartButtonEl.classList.add('colab-df-quickchart-complete');\n",
              "        }\n",
              "        (() => {\n",
              "          let quickchartButtonEl =\n",
              "            document.querySelector('#df-d957096d-c727-411d-914e-06e6c34b821d button');\n",
              "          quickchartButtonEl.style.display =\n",
              "            google.colab.kernel.accessAllowed ? 'block' : 'none';\n",
              "        })();\n",
              "      </script>\n",
              "    </div>\n",
              "\n",
              "    </div>\n",
              "  </div>\n"
            ],
            "application/vnd.google.colaboratory.intrinsic+json": {
              "type": "dataframe",
              "variable_name": "hdf",
              "summary": "{\n  \"name\": \"hdf\",\n  \"rows\": 1338,\n  \"fields\": [\n    {\n      \"column\": \"age\",\n      \"properties\": {\n        \"dtype\": \"number\",\n        \"std\": 14.05537781903813,\n        \"min\": 18.0,\n        \"max\": 64.0,\n        \"num_unique_values\": 47,\n        \"samples\": [\n          21.0,\n          45.0,\n          36.0\n        ],\n        \"semantic_type\": \"\",\n        \"description\": \"\"\n      }\n    },\n    {\n      \"column\": \"gender\",\n      \"properties\": {\n        \"dtype\": \"category\",\n        \"num_unique_values\": 2,\n        \"samples\": [\n          \"male\",\n          \"female\"\n        ],\n        \"semantic_type\": \"\",\n        \"description\": \"\"\n      }\n    },\n    {\n      \"column\": \"BMI\",\n      \"properties\": {\n        \"dtype\": \"number\",\n        \"std\": 6.110302207700597,\n        \"min\": 15.96,\n        \"max\": 53.13,\n        \"num_unique_values\": 545,\n        \"samples\": [\n          21.47,\n          38.285\n        ],\n        \"semantic_type\": \"\",\n        \"description\": \"\"\n      }\n    },\n    {\n      \"column\": \"Children\",\n      \"properties\": {\n        \"dtype\": \"number\",\n        \"std\": 1,\n        \"min\": 0,\n        \"max\": 5,\n        \"num_unique_values\": 6,\n        \"samples\": [\n          0,\n          1\n        ],\n        \"semantic_type\": \"\",\n        \"description\": \"\"\n      }\n    },\n    {\n      \"column\": \"smoking_status\",\n      \"properties\": {\n        \"dtype\": \"category\",\n        \"num_unique_values\": 2,\n        \"samples\": [\n          \"no\",\n          \"yes\"\n        ],\n        \"semantic_type\": \"\",\n        \"description\": \"\"\n      }\n    },\n    {\n      \"column\": \"location\",\n      \"properties\": {\n        \"dtype\": \"category\",\n        \"num_unique_values\": 4,\n        \"samples\": [\n          \"southeast\",\n          \"northeast\"\n        ],\n        \"semantic_type\": \"\",\n        \"description\": \"\"\n      }\n    },\n    {\n      \"column\": \"health_insurance_price\",\n      \"properties\": {\n        \"dtype\": \"number\",\n        \"std\": 12112.797723921183,\n        \"min\": 1121.8739,\n        \"max\": 63770.42801,\n        \"num_unique_values\": 1335,\n        \"samples\": [\n          2117.33885,\n          6548.19505\n        ],\n        \"semantic_type\": \"\",\n        \"description\": \"\"\n      }\n    }\n  ]\n}"
            }
          },
          "metadata": {},
          "execution_count": 4
        }
      ]
    },
    {
      "cell_type": "markdown",
      "source": [
        "last 10 rows of dataset"
      ],
      "metadata": {
        "id": "QUW_jaKW94RG"
      }
    },
    {
      "cell_type": "code",
      "source": [
        "print(\"Last 10 rows of dataset\")\n",
        "hdf.tail(10)"
      ],
      "metadata": {
        "colab": {
          "base_uri": "https://localhost:8080/",
          "height": 380
        },
        "id": "tZqPwolp9906",
        "outputId": "3de86cab-07c6-411a-e198-7e10f6f8c0c8",
        "collapsed": true
      },
      "execution_count": 5,
      "outputs": [
        {
          "output_type": "stream",
          "name": "stdout",
          "text": [
            "Last 10 rows of dataset\n"
          ]
        },
        {
          "output_type": "execute_result",
          "data": {
            "text/plain": [
              "       age  gender     BMI  Children smoking_status   location  \\\n",
              "1328  23.0  female  24.225         2             no  northeast   \n",
              "1329  52.0    male  38.600         2             no  southwest   \n",
              "1330  57.0  female  25.740         2             no  southeast   \n",
              "1331  23.0  female  33.400         0             no  southwest   \n",
              "1332  52.0  female  44.700         3             no  southwest   \n",
              "1333  50.0    male  30.970         3             no  northwest   \n",
              "1334  18.0  female  31.920         0             no  northeast   \n",
              "1335  18.0  female  36.850         0             no  southeast   \n",
              "1336  21.0  female  25.800         0             no  southwest   \n",
              "1337  61.0  female  29.070         0            yes  northwest   \n",
              "\n",
              "      health_insurance_price  \n",
              "1328             22395.74424  \n",
              "1329             10325.20600  \n",
              "1330             12629.16560  \n",
              "1331             10795.93733  \n",
              "1332             11411.68500  \n",
              "1333             10600.54830  \n",
              "1334              2205.98080  \n",
              "1335              1629.83350  \n",
              "1336              2007.94500  \n",
              "1337             29141.36030  "
            ],
            "text/html": [
              "\n",
              "  <div id=\"df-3d919b76-5358-4566-a42b-bb9ff8056952\" class=\"colab-df-container\">\n",
              "    <div>\n",
              "<style scoped>\n",
              "    .dataframe tbody tr th:only-of-type {\n",
              "        vertical-align: middle;\n",
              "    }\n",
              "\n",
              "    .dataframe tbody tr th {\n",
              "        vertical-align: top;\n",
              "    }\n",
              "\n",
              "    .dataframe thead th {\n",
              "        text-align: right;\n",
              "    }\n",
              "</style>\n",
              "<table border=\"1\" class=\"dataframe\">\n",
              "  <thead>\n",
              "    <tr style=\"text-align: right;\">\n",
              "      <th></th>\n",
              "      <th>age</th>\n",
              "      <th>gender</th>\n",
              "      <th>BMI</th>\n",
              "      <th>Children</th>\n",
              "      <th>smoking_status</th>\n",
              "      <th>location</th>\n",
              "      <th>health_insurance_price</th>\n",
              "    </tr>\n",
              "  </thead>\n",
              "  <tbody>\n",
              "    <tr>\n",
              "      <th>1328</th>\n",
              "      <td>23.0</td>\n",
              "      <td>female</td>\n",
              "      <td>24.225</td>\n",
              "      <td>2</td>\n",
              "      <td>no</td>\n",
              "      <td>northeast</td>\n",
              "      <td>22395.74424</td>\n",
              "    </tr>\n",
              "    <tr>\n",
              "      <th>1329</th>\n",
              "      <td>52.0</td>\n",
              "      <td>male</td>\n",
              "      <td>38.600</td>\n",
              "      <td>2</td>\n",
              "      <td>no</td>\n",
              "      <td>southwest</td>\n",
              "      <td>10325.20600</td>\n",
              "    </tr>\n",
              "    <tr>\n",
              "      <th>1330</th>\n",
              "      <td>57.0</td>\n",
              "      <td>female</td>\n",
              "      <td>25.740</td>\n",
              "      <td>2</td>\n",
              "      <td>no</td>\n",
              "      <td>southeast</td>\n",
              "      <td>12629.16560</td>\n",
              "    </tr>\n",
              "    <tr>\n",
              "      <th>1331</th>\n",
              "      <td>23.0</td>\n",
              "      <td>female</td>\n",
              "      <td>33.400</td>\n",
              "      <td>0</td>\n",
              "      <td>no</td>\n",
              "      <td>southwest</td>\n",
              "      <td>10795.93733</td>\n",
              "    </tr>\n",
              "    <tr>\n",
              "      <th>1332</th>\n",
              "      <td>52.0</td>\n",
              "      <td>female</td>\n",
              "      <td>44.700</td>\n",
              "      <td>3</td>\n",
              "      <td>no</td>\n",
              "      <td>southwest</td>\n",
              "      <td>11411.68500</td>\n",
              "    </tr>\n",
              "    <tr>\n",
              "      <th>1333</th>\n",
              "      <td>50.0</td>\n",
              "      <td>male</td>\n",
              "      <td>30.970</td>\n",
              "      <td>3</td>\n",
              "      <td>no</td>\n",
              "      <td>northwest</td>\n",
              "      <td>10600.54830</td>\n",
              "    </tr>\n",
              "    <tr>\n",
              "      <th>1334</th>\n",
              "      <td>18.0</td>\n",
              "      <td>female</td>\n",
              "      <td>31.920</td>\n",
              "      <td>0</td>\n",
              "      <td>no</td>\n",
              "      <td>northeast</td>\n",
              "      <td>2205.98080</td>\n",
              "    </tr>\n",
              "    <tr>\n",
              "      <th>1335</th>\n",
              "      <td>18.0</td>\n",
              "      <td>female</td>\n",
              "      <td>36.850</td>\n",
              "      <td>0</td>\n",
              "      <td>no</td>\n",
              "      <td>southeast</td>\n",
              "      <td>1629.83350</td>\n",
              "    </tr>\n",
              "    <tr>\n",
              "      <th>1336</th>\n",
              "      <td>21.0</td>\n",
              "      <td>female</td>\n",
              "      <td>25.800</td>\n",
              "      <td>0</td>\n",
              "      <td>no</td>\n",
              "      <td>southwest</td>\n",
              "      <td>2007.94500</td>\n",
              "    </tr>\n",
              "    <tr>\n",
              "      <th>1337</th>\n",
              "      <td>61.0</td>\n",
              "      <td>female</td>\n",
              "      <td>29.070</td>\n",
              "      <td>0</td>\n",
              "      <td>yes</td>\n",
              "      <td>northwest</td>\n",
              "      <td>29141.36030</td>\n",
              "    </tr>\n",
              "  </tbody>\n",
              "</table>\n",
              "</div>\n",
              "    <div class=\"colab-df-buttons\">\n",
              "\n",
              "  <div class=\"colab-df-container\">\n",
              "    <button class=\"colab-df-convert\" onclick=\"convertToInteractive('df-3d919b76-5358-4566-a42b-bb9ff8056952')\"\n",
              "            title=\"Convert this dataframe to an interactive table.\"\n",
              "            style=\"display:none;\">\n",
              "\n",
              "  <svg xmlns=\"http://www.w3.org/2000/svg\" height=\"24px\" viewBox=\"0 -960 960 960\">\n",
              "    <path d=\"M120-120v-720h720v720H120Zm60-500h600v-160H180v160Zm220 220h160v-160H400v160Zm0 220h160v-160H400v160ZM180-400h160v-160H180v160Zm440 0h160v-160H620v160ZM180-180h160v-160H180v160Zm440 0h160v-160H620v160Z\"/>\n",
              "  </svg>\n",
              "    </button>\n",
              "\n",
              "  <style>\n",
              "    .colab-df-container {\n",
              "      display:flex;\n",
              "      gap: 12px;\n",
              "    }\n",
              "\n",
              "    .colab-df-convert {\n",
              "      background-color: #E8F0FE;\n",
              "      border: none;\n",
              "      border-radius: 50%;\n",
              "      cursor: pointer;\n",
              "      display: none;\n",
              "      fill: #1967D2;\n",
              "      height: 32px;\n",
              "      padding: 0 0 0 0;\n",
              "      width: 32px;\n",
              "    }\n",
              "\n",
              "    .colab-df-convert:hover {\n",
              "      background-color: #E2EBFA;\n",
              "      box-shadow: 0px 1px 2px rgba(60, 64, 67, 0.3), 0px 1px 3px 1px rgba(60, 64, 67, 0.15);\n",
              "      fill: #174EA6;\n",
              "    }\n",
              "\n",
              "    .colab-df-buttons div {\n",
              "      margin-bottom: 4px;\n",
              "    }\n",
              "\n",
              "    [theme=dark] .colab-df-convert {\n",
              "      background-color: #3B4455;\n",
              "      fill: #D2E3FC;\n",
              "    }\n",
              "\n",
              "    [theme=dark] .colab-df-convert:hover {\n",
              "      background-color: #434B5C;\n",
              "      box-shadow: 0px 1px 3px 1px rgba(0, 0, 0, 0.15);\n",
              "      filter: drop-shadow(0px 1px 2px rgba(0, 0, 0, 0.3));\n",
              "      fill: #FFFFFF;\n",
              "    }\n",
              "  </style>\n",
              "\n",
              "    <script>\n",
              "      const buttonEl =\n",
              "        document.querySelector('#df-3d919b76-5358-4566-a42b-bb9ff8056952 button.colab-df-convert');\n",
              "      buttonEl.style.display =\n",
              "        google.colab.kernel.accessAllowed ? 'block' : 'none';\n",
              "\n",
              "      async function convertToInteractive(key) {\n",
              "        const element = document.querySelector('#df-3d919b76-5358-4566-a42b-bb9ff8056952');\n",
              "        const dataTable =\n",
              "          await google.colab.kernel.invokeFunction('convertToInteractive',\n",
              "                                                    [key], {});\n",
              "        if (!dataTable) return;\n",
              "\n",
              "        const docLinkHtml = 'Like what you see? Visit the ' +\n",
              "          '<a target=\"_blank\" href=https://colab.research.google.com/notebooks/data_table.ipynb>data table notebook</a>'\n",
              "          + ' to learn more about interactive tables.';\n",
              "        element.innerHTML = '';\n",
              "        dataTable['output_type'] = 'display_data';\n",
              "        await google.colab.output.renderOutput(dataTable, element);\n",
              "        const docLink = document.createElement('div');\n",
              "        docLink.innerHTML = docLinkHtml;\n",
              "        element.appendChild(docLink);\n",
              "      }\n",
              "    </script>\n",
              "  </div>\n",
              "\n",
              "\n",
              "    <div id=\"df-09ccfcaf-4b5f-46a7-9ad7-46919a641844\">\n",
              "      <button class=\"colab-df-quickchart\" onclick=\"quickchart('df-09ccfcaf-4b5f-46a7-9ad7-46919a641844')\"\n",
              "                title=\"Suggest charts\"\n",
              "                style=\"display:none;\">\n",
              "\n",
              "<svg xmlns=\"http://www.w3.org/2000/svg\" height=\"24px\"viewBox=\"0 0 24 24\"\n",
              "     width=\"24px\">\n",
              "    <g>\n",
              "        <path d=\"M19 3H5c-1.1 0-2 .9-2 2v14c0 1.1.9 2 2 2h14c1.1 0 2-.9 2-2V5c0-1.1-.9-2-2-2zM9 17H7v-7h2v7zm4 0h-2V7h2v10zm4 0h-2v-4h2v4z\"/>\n",
              "    </g>\n",
              "</svg>\n",
              "      </button>\n",
              "\n",
              "<style>\n",
              "  .colab-df-quickchart {\n",
              "      --bg-color: #E8F0FE;\n",
              "      --fill-color: #1967D2;\n",
              "      --hover-bg-color: #E2EBFA;\n",
              "      --hover-fill-color: #174EA6;\n",
              "      --disabled-fill-color: #AAA;\n",
              "      --disabled-bg-color: #DDD;\n",
              "  }\n",
              "\n",
              "  [theme=dark] .colab-df-quickchart {\n",
              "      --bg-color: #3B4455;\n",
              "      --fill-color: #D2E3FC;\n",
              "      --hover-bg-color: #434B5C;\n",
              "      --hover-fill-color: #FFFFFF;\n",
              "      --disabled-bg-color: #3B4455;\n",
              "      --disabled-fill-color: #666;\n",
              "  }\n",
              "\n",
              "  .colab-df-quickchart {\n",
              "    background-color: var(--bg-color);\n",
              "    border: none;\n",
              "    border-radius: 50%;\n",
              "    cursor: pointer;\n",
              "    display: none;\n",
              "    fill: var(--fill-color);\n",
              "    height: 32px;\n",
              "    padding: 0;\n",
              "    width: 32px;\n",
              "  }\n",
              "\n",
              "  .colab-df-quickchart:hover {\n",
              "    background-color: var(--hover-bg-color);\n",
              "    box-shadow: 0 1px 2px rgba(60, 64, 67, 0.3), 0 1px 3px 1px rgba(60, 64, 67, 0.15);\n",
              "    fill: var(--button-hover-fill-color);\n",
              "  }\n",
              "\n",
              "  .colab-df-quickchart-complete:disabled,\n",
              "  .colab-df-quickchart-complete:disabled:hover {\n",
              "    background-color: var(--disabled-bg-color);\n",
              "    fill: var(--disabled-fill-color);\n",
              "    box-shadow: none;\n",
              "  }\n",
              "\n",
              "  .colab-df-spinner {\n",
              "    border: 2px solid var(--fill-color);\n",
              "    border-color: transparent;\n",
              "    border-bottom-color: var(--fill-color);\n",
              "    animation:\n",
              "      spin 1s steps(1) infinite;\n",
              "  }\n",
              "\n",
              "  @keyframes spin {\n",
              "    0% {\n",
              "      border-color: transparent;\n",
              "      border-bottom-color: var(--fill-color);\n",
              "      border-left-color: var(--fill-color);\n",
              "    }\n",
              "    20% {\n",
              "      border-color: transparent;\n",
              "      border-left-color: var(--fill-color);\n",
              "      border-top-color: var(--fill-color);\n",
              "    }\n",
              "    30% {\n",
              "      border-color: transparent;\n",
              "      border-left-color: var(--fill-color);\n",
              "      border-top-color: var(--fill-color);\n",
              "      border-right-color: var(--fill-color);\n",
              "    }\n",
              "    40% {\n",
              "      border-color: transparent;\n",
              "      border-right-color: var(--fill-color);\n",
              "      border-top-color: var(--fill-color);\n",
              "    }\n",
              "    60% {\n",
              "      border-color: transparent;\n",
              "      border-right-color: var(--fill-color);\n",
              "    }\n",
              "    80% {\n",
              "      border-color: transparent;\n",
              "      border-right-color: var(--fill-color);\n",
              "      border-bottom-color: var(--fill-color);\n",
              "    }\n",
              "    90% {\n",
              "      border-color: transparent;\n",
              "      border-bottom-color: var(--fill-color);\n",
              "    }\n",
              "  }\n",
              "</style>\n",
              "\n",
              "      <script>\n",
              "        async function quickchart(key) {\n",
              "          const quickchartButtonEl =\n",
              "            document.querySelector('#' + key + ' button');\n",
              "          quickchartButtonEl.disabled = true;  // To prevent multiple clicks.\n",
              "          quickchartButtonEl.classList.add('colab-df-spinner');\n",
              "          try {\n",
              "            const charts = await google.colab.kernel.invokeFunction(\n",
              "                'suggestCharts', [key], {});\n",
              "          } catch (error) {\n",
              "            console.error('Error during call to suggestCharts:', error);\n",
              "          }\n",
              "          quickchartButtonEl.classList.remove('colab-df-spinner');\n",
              "          quickchartButtonEl.classList.add('colab-df-quickchart-complete');\n",
              "        }\n",
              "        (() => {\n",
              "          let quickchartButtonEl =\n",
              "            document.querySelector('#df-09ccfcaf-4b5f-46a7-9ad7-46919a641844 button');\n",
              "          quickchartButtonEl.style.display =\n",
              "            google.colab.kernel.accessAllowed ? 'block' : 'none';\n",
              "        })();\n",
              "      </script>\n",
              "    </div>\n",
              "\n",
              "    </div>\n",
              "  </div>\n"
            ],
            "application/vnd.google.colaboratory.intrinsic+json": {
              "type": "dataframe",
              "summary": "{\n  \"name\": \"hdf\",\n  \"rows\": 10,\n  \"fields\": [\n    {\n      \"column\": \"age\",\n      \"properties\": {\n        \"dtype\": \"number\",\n        \"std\": 18.1429508808977,\n        \"min\": 18.0,\n        \"max\": 61.0,\n        \"num_unique_values\": 7,\n        \"samples\": [\n          23.0,\n          52.0,\n          21.0\n        ],\n        \"semantic_type\": \"\",\n        \"description\": \"\"\n      }\n    },\n    {\n      \"column\": \"gender\",\n      \"properties\": {\n        \"dtype\": \"category\",\n        \"num_unique_values\": 2,\n        \"samples\": [\n          \"male\",\n          \"female\"\n        ],\n        \"semantic_type\": \"\",\n        \"description\": \"\"\n      }\n    },\n    {\n      \"column\": \"BMI\",\n      \"properties\": {\n        \"dtype\": \"number\",\n        \"std\": 6.479886508779816,\n        \"min\": 24.225,\n        \"max\": 44.7,\n        \"num_unique_values\": 10,\n        \"samples\": [\n          25.8,\n          38.6\n        ],\n        \"semantic_type\": \"\",\n        \"description\": \"\"\n      }\n    },\n    {\n      \"column\": \"Children\",\n      \"properties\": {\n        \"dtype\": \"number\",\n        \"std\": 1,\n        \"min\": 0,\n        \"max\": 3,\n        \"num_unique_values\": 3,\n        \"samples\": [\n          2,\n          0\n        ],\n        \"semantic_type\": \"\",\n        \"description\": \"\"\n      }\n    },\n    {\n      \"column\": \"smoking_status\",\n      \"properties\": {\n        \"dtype\": \"category\",\n        \"num_unique_values\": 2,\n        \"samples\": [\n          \"yes\",\n          \"no\"\n        ],\n        \"semantic_type\": \"\",\n        \"description\": \"\"\n      }\n    },\n    {\n      \"column\": \"location\",\n      \"properties\": {\n        \"dtype\": \"category\",\n        \"num_unique_values\": 4,\n        \"samples\": [\n          \"southwest\",\n          \"northwest\"\n        ],\n        \"semantic_type\": \"\",\n        \"description\": \"\"\n      }\n    },\n    {\n      \"column\": \"health_insurance_price\",\n      \"properties\": {\n        \"dtype\": \"number\",\n        \"std\": 8866.014402476827,\n        \"min\": 1629.8335,\n        \"max\": 29141.3603,\n        \"num_unique_values\": 10,\n        \"samples\": [\n          2007.945,\n          10325.206\n        ],\n        \"semantic_type\": \"\",\n        \"description\": \"\"\n      }\n    }\n  ]\n}"
            }
          },
          "metadata": {},
          "execution_count": 5
        }
      ]
    },
    {
      "cell_type": "markdown",
      "source": [
        "finding random rows in data set"
      ],
      "metadata": {
        "id": "6o7T4nzm-TkV"
      }
    },
    {
      "cell_type": "code",
      "source": [
        "print(\"Random rows or sample of dataset\")\n",
        "hdf.sample(10)"
      ],
      "metadata": {
        "colab": {
          "base_uri": "https://localhost:8080/",
          "height": 380
        },
        "id": "7Lt3kum_-UlM",
        "outputId": "15301f5b-f3c4-427a-c3fe-75232f95b0e5",
        "collapsed": true
      },
      "execution_count": 6,
      "outputs": [
        {
          "output_type": "stream",
          "name": "stdout",
          "text": [
            "Random rows or sample of dataset\n"
          ]
        },
        {
          "output_type": "execute_result",
          "data": {
            "text/plain": [
              "      age  gender     BMI  Children smoking_status   location  \\\n",
              "257  38.0  female  40.150         0             no  southeast   \n",
              "603  64.0  female  39.050         3             no  southeast   \n",
              "973  19.0  female  40.500         0             no  southwest   \n",
              "829  39.0    male  21.850         1             no  northwest   \n",
              "389  24.0  female  30.210         3             no  northwest   \n",
              "25   59.0  female  27.720         3             no  southeast   \n",
              "300  36.0    male  27.550         3             no  northeast   \n",
              "293  22.0  female  28.820         0             no  southeast   \n",
              "264  53.0  female  38.060         3             no  southeast   \n",
              "637  35.0  female  38.095         2             no  northeast   \n",
              "\n",
              "     health_insurance_price  \n",
              "257              5400.98050  \n",
              "603             16085.12750  \n",
              "973              1759.33800  \n",
              "829              6117.49450  \n",
              "389              4618.07990  \n",
              "25              14001.13380  \n",
              "300              6746.74250  \n",
              "293              2156.75180  \n",
              "264             20462.99766  \n",
              "637             24915.04626  "
            ],
            "text/html": [
              "\n",
              "  <div id=\"df-3da97de1-d1dd-44ff-bd31-6e94d5cdb529\" class=\"colab-df-container\">\n",
              "    <div>\n",
              "<style scoped>\n",
              "    .dataframe tbody tr th:only-of-type {\n",
              "        vertical-align: middle;\n",
              "    }\n",
              "\n",
              "    .dataframe tbody tr th {\n",
              "        vertical-align: top;\n",
              "    }\n",
              "\n",
              "    .dataframe thead th {\n",
              "        text-align: right;\n",
              "    }\n",
              "</style>\n",
              "<table border=\"1\" class=\"dataframe\">\n",
              "  <thead>\n",
              "    <tr style=\"text-align: right;\">\n",
              "      <th></th>\n",
              "      <th>age</th>\n",
              "      <th>gender</th>\n",
              "      <th>BMI</th>\n",
              "      <th>Children</th>\n",
              "      <th>smoking_status</th>\n",
              "      <th>location</th>\n",
              "      <th>health_insurance_price</th>\n",
              "    </tr>\n",
              "  </thead>\n",
              "  <tbody>\n",
              "    <tr>\n",
              "      <th>257</th>\n",
              "      <td>38.0</td>\n",
              "      <td>female</td>\n",
              "      <td>40.150</td>\n",
              "      <td>0</td>\n",
              "      <td>no</td>\n",
              "      <td>southeast</td>\n",
              "      <td>5400.98050</td>\n",
              "    </tr>\n",
              "    <tr>\n",
              "      <th>603</th>\n",
              "      <td>64.0</td>\n",
              "      <td>female</td>\n",
              "      <td>39.050</td>\n",
              "      <td>3</td>\n",
              "      <td>no</td>\n",
              "      <td>southeast</td>\n",
              "      <td>16085.12750</td>\n",
              "    </tr>\n",
              "    <tr>\n",
              "      <th>973</th>\n",
              "      <td>19.0</td>\n",
              "      <td>female</td>\n",
              "      <td>40.500</td>\n",
              "      <td>0</td>\n",
              "      <td>no</td>\n",
              "      <td>southwest</td>\n",
              "      <td>1759.33800</td>\n",
              "    </tr>\n",
              "    <tr>\n",
              "      <th>829</th>\n",
              "      <td>39.0</td>\n",
              "      <td>male</td>\n",
              "      <td>21.850</td>\n",
              "      <td>1</td>\n",
              "      <td>no</td>\n",
              "      <td>northwest</td>\n",
              "      <td>6117.49450</td>\n",
              "    </tr>\n",
              "    <tr>\n",
              "      <th>389</th>\n",
              "      <td>24.0</td>\n",
              "      <td>female</td>\n",
              "      <td>30.210</td>\n",
              "      <td>3</td>\n",
              "      <td>no</td>\n",
              "      <td>northwest</td>\n",
              "      <td>4618.07990</td>\n",
              "    </tr>\n",
              "    <tr>\n",
              "      <th>25</th>\n",
              "      <td>59.0</td>\n",
              "      <td>female</td>\n",
              "      <td>27.720</td>\n",
              "      <td>3</td>\n",
              "      <td>no</td>\n",
              "      <td>southeast</td>\n",
              "      <td>14001.13380</td>\n",
              "    </tr>\n",
              "    <tr>\n",
              "      <th>300</th>\n",
              "      <td>36.0</td>\n",
              "      <td>male</td>\n",
              "      <td>27.550</td>\n",
              "      <td>3</td>\n",
              "      <td>no</td>\n",
              "      <td>northeast</td>\n",
              "      <td>6746.74250</td>\n",
              "    </tr>\n",
              "    <tr>\n",
              "      <th>293</th>\n",
              "      <td>22.0</td>\n",
              "      <td>female</td>\n",
              "      <td>28.820</td>\n",
              "      <td>0</td>\n",
              "      <td>no</td>\n",
              "      <td>southeast</td>\n",
              "      <td>2156.75180</td>\n",
              "    </tr>\n",
              "    <tr>\n",
              "      <th>264</th>\n",
              "      <td>53.0</td>\n",
              "      <td>female</td>\n",
              "      <td>38.060</td>\n",
              "      <td>3</td>\n",
              "      <td>no</td>\n",
              "      <td>southeast</td>\n",
              "      <td>20462.99766</td>\n",
              "    </tr>\n",
              "    <tr>\n",
              "      <th>637</th>\n",
              "      <td>35.0</td>\n",
              "      <td>female</td>\n",
              "      <td>38.095</td>\n",
              "      <td>2</td>\n",
              "      <td>no</td>\n",
              "      <td>northeast</td>\n",
              "      <td>24915.04626</td>\n",
              "    </tr>\n",
              "  </tbody>\n",
              "</table>\n",
              "</div>\n",
              "    <div class=\"colab-df-buttons\">\n",
              "\n",
              "  <div class=\"colab-df-container\">\n",
              "    <button class=\"colab-df-convert\" onclick=\"convertToInteractive('df-3da97de1-d1dd-44ff-bd31-6e94d5cdb529')\"\n",
              "            title=\"Convert this dataframe to an interactive table.\"\n",
              "            style=\"display:none;\">\n",
              "\n",
              "  <svg xmlns=\"http://www.w3.org/2000/svg\" height=\"24px\" viewBox=\"0 -960 960 960\">\n",
              "    <path d=\"M120-120v-720h720v720H120Zm60-500h600v-160H180v160Zm220 220h160v-160H400v160Zm0 220h160v-160H400v160ZM180-400h160v-160H180v160Zm440 0h160v-160H620v160ZM180-180h160v-160H180v160Zm440 0h160v-160H620v160Z\"/>\n",
              "  </svg>\n",
              "    </button>\n",
              "\n",
              "  <style>\n",
              "    .colab-df-container {\n",
              "      display:flex;\n",
              "      gap: 12px;\n",
              "    }\n",
              "\n",
              "    .colab-df-convert {\n",
              "      background-color: #E8F0FE;\n",
              "      border: none;\n",
              "      border-radius: 50%;\n",
              "      cursor: pointer;\n",
              "      display: none;\n",
              "      fill: #1967D2;\n",
              "      height: 32px;\n",
              "      padding: 0 0 0 0;\n",
              "      width: 32px;\n",
              "    }\n",
              "\n",
              "    .colab-df-convert:hover {\n",
              "      background-color: #E2EBFA;\n",
              "      box-shadow: 0px 1px 2px rgba(60, 64, 67, 0.3), 0px 1px 3px 1px rgba(60, 64, 67, 0.15);\n",
              "      fill: #174EA6;\n",
              "    }\n",
              "\n",
              "    .colab-df-buttons div {\n",
              "      margin-bottom: 4px;\n",
              "    }\n",
              "\n",
              "    [theme=dark] .colab-df-convert {\n",
              "      background-color: #3B4455;\n",
              "      fill: #D2E3FC;\n",
              "    }\n",
              "\n",
              "    [theme=dark] .colab-df-convert:hover {\n",
              "      background-color: #434B5C;\n",
              "      box-shadow: 0px 1px 3px 1px rgba(0, 0, 0, 0.15);\n",
              "      filter: drop-shadow(0px 1px 2px rgba(0, 0, 0, 0.3));\n",
              "      fill: #FFFFFF;\n",
              "    }\n",
              "  </style>\n",
              "\n",
              "    <script>\n",
              "      const buttonEl =\n",
              "        document.querySelector('#df-3da97de1-d1dd-44ff-bd31-6e94d5cdb529 button.colab-df-convert');\n",
              "      buttonEl.style.display =\n",
              "        google.colab.kernel.accessAllowed ? 'block' : 'none';\n",
              "\n",
              "      async function convertToInteractive(key) {\n",
              "        const element = document.querySelector('#df-3da97de1-d1dd-44ff-bd31-6e94d5cdb529');\n",
              "        const dataTable =\n",
              "          await google.colab.kernel.invokeFunction('convertToInteractive',\n",
              "                                                    [key], {});\n",
              "        if (!dataTable) return;\n",
              "\n",
              "        const docLinkHtml = 'Like what you see? Visit the ' +\n",
              "          '<a target=\"_blank\" href=https://colab.research.google.com/notebooks/data_table.ipynb>data table notebook</a>'\n",
              "          + ' to learn more about interactive tables.';\n",
              "        element.innerHTML = '';\n",
              "        dataTable['output_type'] = 'display_data';\n",
              "        await google.colab.output.renderOutput(dataTable, element);\n",
              "        const docLink = document.createElement('div');\n",
              "        docLink.innerHTML = docLinkHtml;\n",
              "        element.appendChild(docLink);\n",
              "      }\n",
              "    </script>\n",
              "  </div>\n",
              "\n",
              "\n",
              "    <div id=\"df-b60e2aa7-c1b3-4c93-a0f0-2953afbc153b\">\n",
              "      <button class=\"colab-df-quickchart\" onclick=\"quickchart('df-b60e2aa7-c1b3-4c93-a0f0-2953afbc153b')\"\n",
              "                title=\"Suggest charts\"\n",
              "                style=\"display:none;\">\n",
              "\n",
              "<svg xmlns=\"http://www.w3.org/2000/svg\" height=\"24px\"viewBox=\"0 0 24 24\"\n",
              "     width=\"24px\">\n",
              "    <g>\n",
              "        <path d=\"M19 3H5c-1.1 0-2 .9-2 2v14c0 1.1.9 2 2 2h14c1.1 0 2-.9 2-2V5c0-1.1-.9-2-2-2zM9 17H7v-7h2v7zm4 0h-2V7h2v10zm4 0h-2v-4h2v4z\"/>\n",
              "    </g>\n",
              "</svg>\n",
              "      </button>\n",
              "\n",
              "<style>\n",
              "  .colab-df-quickchart {\n",
              "      --bg-color: #E8F0FE;\n",
              "      --fill-color: #1967D2;\n",
              "      --hover-bg-color: #E2EBFA;\n",
              "      --hover-fill-color: #174EA6;\n",
              "      --disabled-fill-color: #AAA;\n",
              "      --disabled-bg-color: #DDD;\n",
              "  }\n",
              "\n",
              "  [theme=dark] .colab-df-quickchart {\n",
              "      --bg-color: #3B4455;\n",
              "      --fill-color: #D2E3FC;\n",
              "      --hover-bg-color: #434B5C;\n",
              "      --hover-fill-color: #FFFFFF;\n",
              "      --disabled-bg-color: #3B4455;\n",
              "      --disabled-fill-color: #666;\n",
              "  }\n",
              "\n",
              "  .colab-df-quickchart {\n",
              "    background-color: var(--bg-color);\n",
              "    border: none;\n",
              "    border-radius: 50%;\n",
              "    cursor: pointer;\n",
              "    display: none;\n",
              "    fill: var(--fill-color);\n",
              "    height: 32px;\n",
              "    padding: 0;\n",
              "    width: 32px;\n",
              "  }\n",
              "\n",
              "  .colab-df-quickchart:hover {\n",
              "    background-color: var(--hover-bg-color);\n",
              "    box-shadow: 0 1px 2px rgba(60, 64, 67, 0.3), 0 1px 3px 1px rgba(60, 64, 67, 0.15);\n",
              "    fill: var(--button-hover-fill-color);\n",
              "  }\n",
              "\n",
              "  .colab-df-quickchart-complete:disabled,\n",
              "  .colab-df-quickchart-complete:disabled:hover {\n",
              "    background-color: var(--disabled-bg-color);\n",
              "    fill: var(--disabled-fill-color);\n",
              "    box-shadow: none;\n",
              "  }\n",
              "\n",
              "  .colab-df-spinner {\n",
              "    border: 2px solid var(--fill-color);\n",
              "    border-color: transparent;\n",
              "    border-bottom-color: var(--fill-color);\n",
              "    animation:\n",
              "      spin 1s steps(1) infinite;\n",
              "  }\n",
              "\n",
              "  @keyframes spin {\n",
              "    0% {\n",
              "      border-color: transparent;\n",
              "      border-bottom-color: var(--fill-color);\n",
              "      border-left-color: var(--fill-color);\n",
              "    }\n",
              "    20% {\n",
              "      border-color: transparent;\n",
              "      border-left-color: var(--fill-color);\n",
              "      border-top-color: var(--fill-color);\n",
              "    }\n",
              "    30% {\n",
              "      border-color: transparent;\n",
              "      border-left-color: var(--fill-color);\n",
              "      border-top-color: var(--fill-color);\n",
              "      border-right-color: var(--fill-color);\n",
              "    }\n",
              "    40% {\n",
              "      border-color: transparent;\n",
              "      border-right-color: var(--fill-color);\n",
              "      border-top-color: var(--fill-color);\n",
              "    }\n",
              "    60% {\n",
              "      border-color: transparent;\n",
              "      border-right-color: var(--fill-color);\n",
              "    }\n",
              "    80% {\n",
              "      border-color: transparent;\n",
              "      border-right-color: var(--fill-color);\n",
              "      border-bottom-color: var(--fill-color);\n",
              "    }\n",
              "    90% {\n",
              "      border-color: transparent;\n",
              "      border-bottom-color: var(--fill-color);\n",
              "    }\n",
              "  }\n",
              "</style>\n",
              "\n",
              "      <script>\n",
              "        async function quickchart(key) {\n",
              "          const quickchartButtonEl =\n",
              "            document.querySelector('#' + key + ' button');\n",
              "          quickchartButtonEl.disabled = true;  // To prevent multiple clicks.\n",
              "          quickchartButtonEl.classList.add('colab-df-spinner');\n",
              "          try {\n",
              "            const charts = await google.colab.kernel.invokeFunction(\n",
              "                'suggestCharts', [key], {});\n",
              "          } catch (error) {\n",
              "            console.error('Error during call to suggestCharts:', error);\n",
              "          }\n",
              "          quickchartButtonEl.classList.remove('colab-df-spinner');\n",
              "          quickchartButtonEl.classList.add('colab-df-quickchart-complete');\n",
              "        }\n",
              "        (() => {\n",
              "          let quickchartButtonEl =\n",
              "            document.querySelector('#df-b60e2aa7-c1b3-4c93-a0f0-2953afbc153b button');\n",
              "          quickchartButtonEl.style.display =\n",
              "            google.colab.kernel.accessAllowed ? 'block' : 'none';\n",
              "        })();\n",
              "      </script>\n",
              "    </div>\n",
              "\n",
              "    </div>\n",
              "  </div>\n"
            ],
            "application/vnd.google.colaboratory.intrinsic+json": {
              "type": "dataframe",
              "summary": "{\n  \"name\": \"hdf\",\n  \"rows\": 10,\n  \"fields\": [\n    {\n      \"column\": \"age\",\n      \"properties\": {\n        \"dtype\": \"number\",\n        \"std\": 15.49516053482506,\n        \"min\": 19.0,\n        \"max\": 64.0,\n        \"num_unique_values\": 10,\n        \"samples\": [\n          53.0,\n          64.0,\n          59.0\n        ],\n        \"semantic_type\": \"\",\n        \"description\": \"\"\n      }\n    },\n    {\n      \"column\": \"gender\",\n      \"properties\": {\n        \"dtype\": \"category\",\n        \"num_unique_values\": 2,\n        \"samples\": [\n          \"male\",\n          \"female\"\n        ],\n        \"semantic_type\": \"\",\n        \"description\": \"\"\n      }\n    },\n    {\n      \"column\": \"BMI\",\n      \"properties\": {\n        \"dtype\": \"number\",\n        \"std\": 6.685768654388214,\n        \"min\": 21.85,\n        \"max\": 40.5,\n        \"num_unique_values\": 10,\n        \"samples\": [\n          38.06,\n          39.05\n        ],\n        \"semantic_type\": \"\",\n        \"description\": \"\"\n      }\n    },\n    {\n      \"column\": \"Children\",\n      \"properties\": {\n        \"dtype\": \"number\",\n        \"std\": 1,\n        \"min\": 0,\n        \"max\": 3,\n        \"num_unique_values\": 4,\n        \"samples\": [\n          3,\n          2\n        ],\n        \"semantic_type\": \"\",\n        \"description\": \"\"\n      }\n    },\n    {\n      \"column\": \"smoking_status\",\n      \"properties\": {\n        \"dtype\": \"category\",\n        \"num_unique_values\": 1,\n        \"samples\": [\n          \"no\"\n        ],\n        \"semantic_type\": \"\",\n        \"description\": \"\"\n      }\n    },\n    {\n      \"column\": \"location\",\n      \"properties\": {\n        \"dtype\": \"category\",\n        \"num_unique_values\": 4,\n        \"samples\": [\n          \"southwest\"\n        ],\n        \"semantic_type\": \"\",\n        \"description\": \"\"\n      }\n    },\n    {\n      \"column\": \"health_insurance_price\",\n      \"properties\": {\n        \"dtype\": \"number\",\n        \"std\": 8094.284493659541,\n        \"min\": 1759.338,\n        \"max\": 24915.04626,\n        \"num_unique_values\": 10,\n        \"samples\": [\n          20462.99766\n        ],\n        \"semantic_type\": \"\",\n        \"description\": \"\"\n      }\n    }\n  ]\n}"
            }
          },
          "metadata": {},
          "execution_count": 6
        }
      ]
    },
    {
      "cell_type": "markdown",
      "source": [
        "Shape of data-set"
      ],
      "metadata": {
        "id": "5amdp1jf-Mcu"
      }
    },
    {
      "cell_type": "code",
      "source": [
        "hdf.shape"
      ],
      "metadata": {
        "colab": {
          "base_uri": "https://localhost:8080/"
        },
        "id": "tUP6qzRF8i7H",
        "outputId": "f3511288-5fb6-408c-a334-c0eba8d559db"
      },
      "execution_count": null,
      "outputs": [
        {
          "output_type": "execute_result",
          "data": {
            "text/plain": [
              "(1338, 7)"
            ]
          },
          "metadata": {},
          "execution_count": 5
        }
      ]
    },
    {
      "cell_type": "markdown",
      "source": [
        "Numerical column names"
      ],
      "metadata": {
        "id": "E_GeZgSiVTYj"
      }
    },
    {
      "cell_type": "code",
      "source": [
        "print(\"Numerical columns are:\")\n",
        "hdf.select_dtypes(include=['number']).columns"
      ],
      "metadata": {
        "colab": {
          "base_uri": "https://localhost:8080/"
        },
        "id": "KlbvFs-TVUEi",
        "outputId": "d5743721-7fed-43d5-ddb4-1be45f15869f"
      },
      "execution_count": 7,
      "outputs": [
        {
          "output_type": "stream",
          "name": "stdout",
          "text": [
            "Numerical columns are:\n"
          ]
        },
        {
          "output_type": "execute_result",
          "data": {
            "text/plain": [
              "Index(['age', 'BMI', 'Children', 'health_insurance_price'], dtype='object')"
            ]
          },
          "metadata": {},
          "execution_count": 7
        }
      ]
    },
    {
      "cell_type": "markdown",
      "source": [
        "Categorical column names"
      ],
      "metadata": {
        "id": "fm7PhfqlWMQA"
      }
    },
    {
      "cell_type": "code",
      "source": [
        "print(\"categorical columns are:\")\n",
        "hdf.select_dtypes(include=['object']).columns"
      ],
      "metadata": {
        "colab": {
          "base_uri": "https://localhost:8080/"
        },
        "id": "ZYNfNXo-VlKv",
        "outputId": "2b4e3387-06e7-4185-fab7-3107ee5f6f04"
      },
      "execution_count": null,
      "outputs": [
        {
          "output_type": "stream",
          "name": "stdout",
          "text": [
            "categorical columns are:\n"
          ]
        },
        {
          "output_type": "execute_result",
          "data": {
            "text/plain": [
              "Index(['gender', 'smoking_status', 'location'], dtype='object')"
            ]
          },
          "metadata": {},
          "execution_count": 5
        }
      ]
    },
    {
      "cell_type": "markdown",
      "source": [
        "DataTypes of columns"
      ],
      "metadata": {
        "id": "m1V5EAFmWnpe"
      }
    },
    {
      "cell_type": "code",
      "source": [
        "hdf.dtypes"
      ],
      "metadata": {
        "colab": {
          "base_uri": "https://localhost:8080/",
          "height": 303
        },
        "id": "AdSxmkjeWtWN",
        "outputId": "9be154ce-f8f3-4e23-d1af-51ff6bf11648"
      },
      "execution_count": null,
      "outputs": [
        {
          "output_type": "execute_result",
          "data": {
            "text/plain": [
              "age                       float64\n",
              "gender                     object\n",
              "BMI                       float64\n",
              "Children                    int64\n",
              "smoking_status             object\n",
              "location                   object\n",
              "health_insurance_price    float64\n",
              "dtype: object"
            ],
            "text/html": [
              "<div>\n",
              "<style scoped>\n",
              "    .dataframe tbody tr th:only-of-type {\n",
              "        vertical-align: middle;\n",
              "    }\n",
              "\n",
              "    .dataframe tbody tr th {\n",
              "        vertical-align: top;\n",
              "    }\n",
              "\n",
              "    .dataframe thead th {\n",
              "        text-align: right;\n",
              "    }\n",
              "</style>\n",
              "<table border=\"1\" class=\"dataframe\">\n",
              "  <thead>\n",
              "    <tr style=\"text-align: right;\">\n",
              "      <th></th>\n",
              "      <th>0</th>\n",
              "    </tr>\n",
              "  </thead>\n",
              "  <tbody>\n",
              "    <tr>\n",
              "      <th>age</th>\n",
              "      <td>float64</td>\n",
              "    </tr>\n",
              "    <tr>\n",
              "      <th>gender</th>\n",
              "      <td>object</td>\n",
              "    </tr>\n",
              "    <tr>\n",
              "      <th>BMI</th>\n",
              "      <td>float64</td>\n",
              "    </tr>\n",
              "    <tr>\n",
              "      <th>Children</th>\n",
              "      <td>int64</td>\n",
              "    </tr>\n",
              "    <tr>\n",
              "      <th>smoking_status</th>\n",
              "      <td>object</td>\n",
              "    </tr>\n",
              "    <tr>\n",
              "      <th>location</th>\n",
              "      <td>object</td>\n",
              "    </tr>\n",
              "    <tr>\n",
              "      <th>health_insurance_price</th>\n",
              "      <td>float64</td>\n",
              "    </tr>\n",
              "  </tbody>\n",
              "</table>\n",
              "</div><br><label><b>dtype:</b> object</label>"
            ]
          },
          "metadata": {},
          "execution_count": 6
        }
      ]
    },
    {
      "cell_type": "markdown",
      "source": [
        "Dataset information"
      ],
      "metadata": {
        "id": "ig8AHg8Y84oE"
      }
    },
    {
      "cell_type": "code",
      "source": [
        "hdf.info()"
      ],
      "metadata": {
        "colab": {
          "base_uri": "https://localhost:8080/"
        },
        "id": "G61W-n439G4n",
        "outputId": "ca7d58ed-cb20-467f-b9ee-6596ee1bf289"
      },
      "execution_count": null,
      "outputs": [
        {
          "output_type": "stream",
          "name": "stdout",
          "text": [
            "<class 'pandas.core.frame.DataFrame'>\n",
            "RangeIndex: 1338 entries, 0 to 1337\n",
            "Data columns (total 7 columns):\n",
            " #   Column                  Non-Null Count  Dtype  \n",
            "---  ------                  --------------  -----  \n",
            " 0   age                     1310 non-null   float64\n",
            " 1   gender                  1338 non-null   object \n",
            " 2   BMI                     1315 non-null   float64\n",
            " 3   Children                1338 non-null   int64  \n",
            " 4   smoking_status          1338 non-null   object \n",
            " 5   location                1338 non-null   object \n",
            " 6   health_insurance_price  1336 non-null   float64\n",
            "dtypes: float64(3), int64(1), object(3)\n",
            "memory usage: 73.3+ KB\n"
          ]
        }
      ]
    },
    {
      "cell_type": "markdown",
      "source": [
        "Finding missing values"
      ],
      "metadata": {
        "id": "i-qWT8dE9TW4"
      }
    },
    {
      "cell_type": "code",
      "source": [
        "print(\"\\nMissing Values in Each Column:\")\n",
        "hdf.isnull().sum()"
      ],
      "metadata": {
        "colab": {
          "base_uri": "https://localhost:8080/",
          "height": 338
        },
        "id": "4YR6kxrZ9dHT",
        "outputId": "97b582e1-272a-436a-e205-364ab744809e"
      },
      "execution_count": 8,
      "outputs": [
        {
          "output_type": "stream",
          "name": "stdout",
          "text": [
            "\n",
            "Missing Values in Each Column:\n"
          ]
        },
        {
          "output_type": "execute_result",
          "data": {
            "text/plain": [
              "age                       28\n",
              "gender                     0\n",
              "BMI                       23\n",
              "Children                   0\n",
              "smoking_status             0\n",
              "location                   0\n",
              "health_insurance_price     2\n",
              "dtype: int64"
            ],
            "text/html": [
              "<div>\n",
              "<style scoped>\n",
              "    .dataframe tbody tr th:only-of-type {\n",
              "        vertical-align: middle;\n",
              "    }\n",
              "\n",
              "    .dataframe tbody tr th {\n",
              "        vertical-align: top;\n",
              "    }\n",
              "\n",
              "    .dataframe thead th {\n",
              "        text-align: right;\n",
              "    }\n",
              "</style>\n",
              "<table border=\"1\" class=\"dataframe\">\n",
              "  <thead>\n",
              "    <tr style=\"text-align: right;\">\n",
              "      <th></th>\n",
              "      <th>0</th>\n",
              "    </tr>\n",
              "  </thead>\n",
              "  <tbody>\n",
              "    <tr>\n",
              "      <th>age</th>\n",
              "      <td>28</td>\n",
              "    </tr>\n",
              "    <tr>\n",
              "      <th>gender</th>\n",
              "      <td>0</td>\n",
              "    </tr>\n",
              "    <tr>\n",
              "      <th>BMI</th>\n",
              "      <td>23</td>\n",
              "    </tr>\n",
              "    <tr>\n",
              "      <th>Children</th>\n",
              "      <td>0</td>\n",
              "    </tr>\n",
              "    <tr>\n",
              "      <th>smoking_status</th>\n",
              "      <td>0</td>\n",
              "    </tr>\n",
              "    <tr>\n",
              "      <th>location</th>\n",
              "      <td>0</td>\n",
              "    </tr>\n",
              "    <tr>\n",
              "      <th>health_insurance_price</th>\n",
              "      <td>2</td>\n",
              "    </tr>\n",
              "  </tbody>\n",
              "</table>\n",
              "</div><br><label><b>dtype:</b> int64</label>"
            ]
          },
          "metadata": {},
          "execution_count": 8
        }
      ]
    },
    {
      "cell_type": "markdown",
      "source": [
        "Finding duplicated rows"
      ],
      "metadata": {
        "id": "8igo2ljKW64b"
      }
    },
    {
      "cell_type": "code",
      "source": [
        "hdf.duplicated().sum()"
      ],
      "metadata": {
        "colab": {
          "base_uri": "https://localhost:8080/"
        },
        "id": "WaoClafqW-vf",
        "outputId": "77ef1579-2b4e-4b41-90dc-80be1af7b11c"
      },
      "execution_count": null,
      "outputs": [
        {
          "output_type": "execute_result",
          "data": {
            "text/plain": [
              "np.int64(1)"
            ]
          },
          "metadata": {},
          "execution_count": 11
        }
      ]
    },
    {
      "cell_type": "markdown",
      "source": [
        "Finding Unique values count for each column"
      ],
      "metadata": {
        "id": "iFCJXE3xXJWf"
      }
    },
    {
      "cell_type": "code",
      "source": [
        "hdf.nunique()"
      ],
      "metadata": {
        "colab": {
          "base_uri": "https://localhost:8080/",
          "height": 303
        },
        "id": "Z-x4SrWUdyKI",
        "outputId": "20a81ecf-4007-487f-dbfa-760d2f2144b2"
      },
      "execution_count": null,
      "outputs": [
        {
          "output_type": "execute_result",
          "data": {
            "text/plain": [
              "age                         47\n",
              "gender                       2\n",
              "BMI                        545\n",
              "Children                     6\n",
              "smoking_status               2\n",
              "location                     4\n",
              "health_insurance_price    1335\n",
              "dtype: int64"
            ],
            "text/html": [
              "<div>\n",
              "<style scoped>\n",
              "    .dataframe tbody tr th:only-of-type {\n",
              "        vertical-align: middle;\n",
              "    }\n",
              "\n",
              "    .dataframe tbody tr th {\n",
              "        vertical-align: top;\n",
              "    }\n",
              "\n",
              "    .dataframe thead th {\n",
              "        text-align: right;\n",
              "    }\n",
              "</style>\n",
              "<table border=\"1\" class=\"dataframe\">\n",
              "  <thead>\n",
              "    <tr style=\"text-align: right;\">\n",
              "      <th></th>\n",
              "      <th>0</th>\n",
              "    </tr>\n",
              "  </thead>\n",
              "  <tbody>\n",
              "    <tr>\n",
              "      <th>age</th>\n",
              "      <td>47</td>\n",
              "    </tr>\n",
              "    <tr>\n",
              "      <th>gender</th>\n",
              "      <td>2</td>\n",
              "    </tr>\n",
              "    <tr>\n",
              "      <th>BMI</th>\n",
              "      <td>545</td>\n",
              "    </tr>\n",
              "    <tr>\n",
              "      <th>Children</th>\n",
              "      <td>6</td>\n",
              "    </tr>\n",
              "    <tr>\n",
              "      <th>smoking_status</th>\n",
              "      <td>2</td>\n",
              "    </tr>\n",
              "    <tr>\n",
              "      <th>location</th>\n",
              "      <td>4</td>\n",
              "    </tr>\n",
              "    <tr>\n",
              "      <th>health_insurance_price</th>\n",
              "      <td>1335</td>\n",
              "    </tr>\n",
              "  </tbody>\n",
              "</table>\n",
              "</div><br><label><b>dtype:</b> int64</label>"
            ]
          },
          "metadata": {},
          "execution_count": 9
        }
      ]
    },
    {
      "cell_type": "markdown",
      "source": [
        "Printing unique values in each column"
      ],
      "metadata": {
        "id": "O-3EZzr_dw1S"
      }
    },
    {
      "cell_type": "code",
      "source": [
        "for column in hdf.columns:\n",
        "    unique_values = hdf[column].unique()\n",
        "    print(f\"Unique values in column '{column}': {unique_values}\\n\")\n"
      ],
      "metadata": {
        "colab": {
          "base_uri": "https://localhost:8080/"
        },
        "collapsed": true,
        "id": "kc2Vnj15eO5j",
        "outputId": "58fffb36-1ec8-4535-f2ac-737b28cb43d2"
      },
      "execution_count": null,
      "outputs": [
        {
          "output_type": "stream",
          "name": "stdout",
          "text": [
            "Unique values in column 'age': [19. 18. 28. 33. 32. 31. 46. 37. 60. 25. 62. 23. 56. 27. 52. 30. 34. 59.\n",
            " nan 55. 22. 63. 26. 35. 24. 41. 38. 36. 21. 48. 40. 58. 53. 43. 64. 20.\n",
            " 61. 44. 57. 29. 45. 54. 49. 47. 51. 42. 50. 39.]\n",
            "\n",
            "Unique values in column 'gender': ['female' 'male']\n",
            "\n",
            "Unique values in column 'BMI': [   nan 33.77  33.    22.705 28.88  25.74  33.44  27.74  29.83  25.84\n",
            " 26.22  26.29  34.4   39.82  42.13  24.6   30.78  23.845 40.3   35.3\n",
            " 36.005 32.4   34.1   31.92  28.025 27.72  23.085 32.775 17.385 36.3\n",
            " 35.6   26.315 28.6   28.31  36.4   20.425 32.965 20.8   36.67  39.9\n",
            " 26.6   36.63  21.78  30.8   37.05  37.3   38.665 34.77  24.53  35.2\n",
            " 35.625 33.63  28.    34.43  28.69  36.955 31.825 31.68  22.88  27.36\n",
            " 33.66  24.7   25.935 22.42  28.9   39.1   36.19  23.98  24.75  28.5\n",
            " 28.1   32.01  27.4   34.01  29.59  35.53  39.805 26.885 38.285 37.62\n",
            " 41.23  34.8   22.895 31.16  27.2   26.98  39.49  24.795 31.3   38.28\n",
            " 19.95  19.3   31.6   25.46  30.115 29.92  27.5   28.4   27.94  35.09\n",
            " 29.7   35.72  32.205 28.595 49.06  27.17  23.37  37.1   23.75  28.975\n",
            " 31.35  33.915 28.785 28.3   37.4   17.765 34.7   22.04  35.9   25.555\n",
            " 28.05  25.175 31.9   36.    32.49  25.3   29.735 38.83  30.495 37.73\n",
            " 37.43  24.13  37.145 39.52  24.42  36.85  39.6   29.8   29.64  28.215\n",
            " 37.    33.155 18.905 41.47  30.3   15.96  33.345 37.7   27.835 29.2\n",
            " 26.41  30.69  41.895 30.9   32.2   32.11  31.57  26.2   30.59  32.8\n",
            " 18.05  39.33  32.23  24.035 36.08  22.3   26.4   31.8   30.875 26.73\n",
            " 23.1   23.21  33.7   33.25  24.64  33.88  38.06  41.91  31.635 36.195\n",
            " 27.83  17.8   24.51  22.22  38.39  29.07  22.135 26.8   30.02  35.86\n",
            " 20.9   34.21  25.365 40.15  24.415 25.2   26.84  24.32  42.35  19.8\n",
            " 32.395 30.2   29.37  34.2   27.455 27.55  20.615 24.3   31.79  21.56\n",
            " 28.12  40.565 27.645 31.2   26.62  48.07  36.765 33.4   45.54  28.82\n",
            " 22.99  27.7   25.41  34.39  22.61  37.51  38.    33.33  34.865 33.06\n",
            " 31.4   37.335 25.27  40.945 34.105 36.48  33.8   36.7   36.385 34.5\n",
            " 32.3   27.6   29.26  35.75  23.18  25.6   35.245 43.89  20.79  30.5\n",
            " 21.7   21.89  24.985 32.015 30.4   21.09  22.23  32.9   24.89  31.46\n",
            " 17.955 30.685 43.34  39.05  30.21  31.445 19.855 31.02  38.17  20.6\n",
            " 47.52  20.4   24.31  23.6   21.12  30.03  17.48  20.235 17.195 23.9\n",
            " 35.15  35.64  22.6   39.16  27.265 29.165 16.815 33.1   26.9   33.11\n",
            " 31.73  46.75  29.45  32.68  33.5   43.01  36.52  26.695 25.65  29.6\n",
            " 38.6   23.4   46.53  30.14  30.    38.095 28.38  28.7   33.82  24.09\n",
            " 32.67  25.1   32.56  41.325 39.5   34.3   31.065 21.47  25.08  43.4\n",
            " 25.7   27.93  39.2   26.03  30.25  28.93  35.7   31.    44.22  26.07\n",
            " 25.8   39.425 40.48  38.9   47.41  35.435 46.7   46.2   21.4   23.8\n",
            " 44.77  32.12  29.1   37.29  43.12  36.86  34.295 23.465 45.43  23.65\n",
            " 20.7   28.27  35.91  29.    19.57  31.13  21.85  40.26  33.725 29.48\n",
            " 32.6   37.525 23.655 37.8   19.    21.3   33.535 42.46  38.95  36.1\n",
            " 29.3   39.7   38.19  42.4   34.96  35.31  42.68  31.54  29.81  21.375\n",
            " 40.81  17.4   20.3   18.5   26.125 41.69  24.1   36.2   40.185 39.27\n",
            " 34.87  44.745 29.545 23.54  40.47  40.66  36.6   35.4   27.075 28.405\n",
            " 21.755 40.28  30.1   32.1   23.7   29.15  27.    37.905 22.77  22.8\n",
            " 34.58  27.1   19.475 26.7   34.32  24.4   41.14  35.97  22.515 41.8\n",
            " 26.18  42.24  26.51  35.815 41.42  36.575 42.94  21.01  24.225 17.67\n",
            " 31.1   32.78  32.45  50.38  47.6   25.4   29.9   43.7   24.86  28.8\n",
            " 29.5   29.04  38.94  44.    20.045 40.92  35.1   29.355 32.585 32.34\n",
            " 39.8   24.605 33.99  28.2   25.    33.2   23.2   20.1   32.5   37.18\n",
            " 46.09  39.93  35.8   31.255 18.335 42.9   26.79  39.615 25.9   25.745\n",
            " 28.16  23.56  40.5   35.42  39.995 34.675 20.52  23.275 36.29  32.7\n",
            " 19.19  20.13  23.32  45.32  34.6   18.715 17.29  21.565 38.38  23.\n",
            " 37.07  52.58  42.655 21.66  32.    31.5   18.3   47.74  22.1   19.095\n",
            " 31.24  29.925 20.35  25.85  42.75  18.6   23.87  45.9   21.5   30.305\n",
            " 44.88  41.1   40.37  28.49  33.55  40.375 27.28  17.86  33.3   39.14\n",
            " 21.945 24.97  23.94  34.485 21.8   23.3   36.96  21.28  29.4   27.3\n",
            " 37.9   37.715 23.76  25.52  27.61  27.06  39.4   34.9   22.    30.36\n",
            " 27.8   53.13  39.71  32.87  44.7   30.97 ]\n",
            "\n",
            "Unique values in column 'Children': [0 1 3 2 5 4]\n",
            "\n",
            "Unique values in column 'smoking_status': ['yes' 'no']\n",
            "\n",
            "Unique values in column 'location': ['southwest' 'southeast' 'northwest' 'northeast']\n",
            "\n",
            "Unique values in column 'health_insurance_price': [16884.924   1725.5523  4449.462  ...  1629.8335  2007.945  29141.3603]\n",
            "\n"
          ]
        }
      ]
    },
    {
      "cell_type": "markdown",
      "source": [
        "Summary statistics for numerical columns"
      ],
      "metadata": {
        "id": "EgZLeg499k7C"
      }
    },
    {
      "cell_type": "code",
      "source": [
        "print(\"Summary Statistics:\")\n",
        "hdf.describe()"
      ],
      "metadata": {
        "id": "cvjnj0aB8wCQ",
        "colab": {
          "base_uri": "https://localhost:8080/",
          "height": 317
        },
        "outputId": "12c6164d-0957-4310-95a4-d73af01c6f0b"
      },
      "execution_count": null,
      "outputs": [
        {
          "output_type": "stream",
          "name": "stdout",
          "text": [
            "Summary Statistics:\n"
          ]
        },
        {
          "output_type": "execute_result",
          "data": {
            "text/plain": [
              "               age          BMI     Children  health_insurance_price\n",
              "count  1310.000000  1315.000000  1338.000000             1336.000000\n",
              "mean     39.166412    30.638217     1.094918            13268.527719\n",
              "std      14.055378     6.110302     1.205493            12112.797724\n",
              "min      18.000000    15.960000     0.000000             1121.873900\n",
              "25%      26.000000    26.210000     0.000000             4744.325050\n",
              "50%      39.000000    30.305000     1.000000             9382.033000\n",
              "75%      51.000000    34.580000     2.000000            16604.302645\n",
              "max      64.000000    53.130000     5.000000            63770.428010"
            ],
            "text/html": [
              "\n",
              "  <div id=\"df-7a21a639-4d4c-4000-802e-353a37a48892\" class=\"colab-df-container\">\n",
              "    <div>\n",
              "<style scoped>\n",
              "    .dataframe tbody tr th:only-of-type {\n",
              "        vertical-align: middle;\n",
              "    }\n",
              "\n",
              "    .dataframe tbody tr th {\n",
              "        vertical-align: top;\n",
              "    }\n",
              "\n",
              "    .dataframe thead th {\n",
              "        text-align: right;\n",
              "    }\n",
              "</style>\n",
              "<table border=\"1\" class=\"dataframe\">\n",
              "  <thead>\n",
              "    <tr style=\"text-align: right;\">\n",
              "      <th></th>\n",
              "      <th>age</th>\n",
              "      <th>BMI</th>\n",
              "      <th>Children</th>\n",
              "      <th>health_insurance_price</th>\n",
              "    </tr>\n",
              "  </thead>\n",
              "  <tbody>\n",
              "    <tr>\n",
              "      <th>count</th>\n",
              "      <td>1310.000000</td>\n",
              "      <td>1315.000000</td>\n",
              "      <td>1338.000000</td>\n",
              "      <td>1336.000000</td>\n",
              "    </tr>\n",
              "    <tr>\n",
              "      <th>mean</th>\n",
              "      <td>39.166412</td>\n",
              "      <td>30.638217</td>\n",
              "      <td>1.094918</td>\n",
              "      <td>13268.527719</td>\n",
              "    </tr>\n",
              "    <tr>\n",
              "      <th>std</th>\n",
              "      <td>14.055378</td>\n",
              "      <td>6.110302</td>\n",
              "      <td>1.205493</td>\n",
              "      <td>12112.797724</td>\n",
              "    </tr>\n",
              "    <tr>\n",
              "      <th>min</th>\n",
              "      <td>18.000000</td>\n",
              "      <td>15.960000</td>\n",
              "      <td>0.000000</td>\n",
              "      <td>1121.873900</td>\n",
              "    </tr>\n",
              "    <tr>\n",
              "      <th>25%</th>\n",
              "      <td>26.000000</td>\n",
              "      <td>26.210000</td>\n",
              "      <td>0.000000</td>\n",
              "      <td>4744.325050</td>\n",
              "    </tr>\n",
              "    <tr>\n",
              "      <th>50%</th>\n",
              "      <td>39.000000</td>\n",
              "      <td>30.305000</td>\n",
              "      <td>1.000000</td>\n",
              "      <td>9382.033000</td>\n",
              "    </tr>\n",
              "    <tr>\n",
              "      <th>75%</th>\n",
              "      <td>51.000000</td>\n",
              "      <td>34.580000</td>\n",
              "      <td>2.000000</td>\n",
              "      <td>16604.302645</td>\n",
              "    </tr>\n",
              "    <tr>\n",
              "      <th>max</th>\n",
              "      <td>64.000000</td>\n",
              "      <td>53.130000</td>\n",
              "      <td>5.000000</td>\n",
              "      <td>63770.428010</td>\n",
              "    </tr>\n",
              "  </tbody>\n",
              "</table>\n",
              "</div>\n",
              "    <div class=\"colab-df-buttons\">\n",
              "\n",
              "  <div class=\"colab-df-container\">\n",
              "    <button class=\"colab-df-convert\" onclick=\"convertToInteractive('df-7a21a639-4d4c-4000-802e-353a37a48892')\"\n",
              "            title=\"Convert this dataframe to an interactive table.\"\n",
              "            style=\"display:none;\">\n",
              "\n",
              "  <svg xmlns=\"http://www.w3.org/2000/svg\" height=\"24px\" viewBox=\"0 -960 960 960\">\n",
              "    <path d=\"M120-120v-720h720v720H120Zm60-500h600v-160H180v160Zm220 220h160v-160H400v160Zm0 220h160v-160H400v160ZM180-400h160v-160H180v160Zm440 0h160v-160H620v160ZM180-180h160v-160H180v160Zm440 0h160v-160H620v160Z\"/>\n",
              "  </svg>\n",
              "    </button>\n",
              "\n",
              "  <style>\n",
              "    .colab-df-container {\n",
              "      display:flex;\n",
              "      gap: 12px;\n",
              "    }\n",
              "\n",
              "    .colab-df-convert {\n",
              "      background-color: #E8F0FE;\n",
              "      border: none;\n",
              "      border-radius: 50%;\n",
              "      cursor: pointer;\n",
              "      display: none;\n",
              "      fill: #1967D2;\n",
              "      height: 32px;\n",
              "      padding: 0 0 0 0;\n",
              "      width: 32px;\n",
              "    }\n",
              "\n",
              "    .colab-df-convert:hover {\n",
              "      background-color: #E2EBFA;\n",
              "      box-shadow: 0px 1px 2px rgba(60, 64, 67, 0.3), 0px 1px 3px 1px rgba(60, 64, 67, 0.15);\n",
              "      fill: #174EA6;\n",
              "    }\n",
              "\n",
              "    .colab-df-buttons div {\n",
              "      margin-bottom: 4px;\n",
              "    }\n",
              "\n",
              "    [theme=dark] .colab-df-convert {\n",
              "      background-color: #3B4455;\n",
              "      fill: #D2E3FC;\n",
              "    }\n",
              "\n",
              "    [theme=dark] .colab-df-convert:hover {\n",
              "      background-color: #434B5C;\n",
              "      box-shadow: 0px 1px 3px 1px rgba(0, 0, 0, 0.15);\n",
              "      filter: drop-shadow(0px 1px 2px rgba(0, 0, 0, 0.3));\n",
              "      fill: #FFFFFF;\n",
              "    }\n",
              "  </style>\n",
              "\n",
              "    <script>\n",
              "      const buttonEl =\n",
              "        document.querySelector('#df-7a21a639-4d4c-4000-802e-353a37a48892 button.colab-df-convert');\n",
              "      buttonEl.style.display =\n",
              "        google.colab.kernel.accessAllowed ? 'block' : 'none';\n",
              "\n",
              "      async function convertToInteractive(key) {\n",
              "        const element = document.querySelector('#df-7a21a639-4d4c-4000-802e-353a37a48892');\n",
              "        const dataTable =\n",
              "          await google.colab.kernel.invokeFunction('convertToInteractive',\n",
              "                                                    [key], {});\n",
              "        if (!dataTable) return;\n",
              "\n",
              "        const docLinkHtml = 'Like what you see? Visit the ' +\n",
              "          '<a target=\"_blank\" href=https://colab.research.google.com/notebooks/data_table.ipynb>data table notebook</a>'\n",
              "          + ' to learn more about interactive tables.';\n",
              "        element.innerHTML = '';\n",
              "        dataTable['output_type'] = 'display_data';\n",
              "        await google.colab.output.renderOutput(dataTable, element);\n",
              "        const docLink = document.createElement('div');\n",
              "        docLink.innerHTML = docLinkHtml;\n",
              "        element.appendChild(docLink);\n",
              "      }\n",
              "    </script>\n",
              "  </div>\n",
              "\n",
              "\n",
              "    <div id=\"df-2e051174-19a7-4bad-acae-75c21a7b5a03\">\n",
              "      <button class=\"colab-df-quickchart\" onclick=\"quickchart('df-2e051174-19a7-4bad-acae-75c21a7b5a03')\"\n",
              "                title=\"Suggest charts\"\n",
              "                style=\"display:none;\">\n",
              "\n",
              "<svg xmlns=\"http://www.w3.org/2000/svg\" height=\"24px\"viewBox=\"0 0 24 24\"\n",
              "     width=\"24px\">\n",
              "    <g>\n",
              "        <path d=\"M19 3H5c-1.1 0-2 .9-2 2v14c0 1.1.9 2 2 2h14c1.1 0 2-.9 2-2V5c0-1.1-.9-2-2-2zM9 17H7v-7h2v7zm4 0h-2V7h2v10zm4 0h-2v-4h2v4z\"/>\n",
              "    </g>\n",
              "</svg>\n",
              "      </button>\n",
              "\n",
              "<style>\n",
              "  .colab-df-quickchart {\n",
              "      --bg-color: #E8F0FE;\n",
              "      --fill-color: #1967D2;\n",
              "      --hover-bg-color: #E2EBFA;\n",
              "      --hover-fill-color: #174EA6;\n",
              "      --disabled-fill-color: #AAA;\n",
              "      --disabled-bg-color: #DDD;\n",
              "  }\n",
              "\n",
              "  [theme=dark] .colab-df-quickchart {\n",
              "      --bg-color: #3B4455;\n",
              "      --fill-color: #D2E3FC;\n",
              "      --hover-bg-color: #434B5C;\n",
              "      --hover-fill-color: #FFFFFF;\n",
              "      --disabled-bg-color: #3B4455;\n",
              "      --disabled-fill-color: #666;\n",
              "  }\n",
              "\n",
              "  .colab-df-quickchart {\n",
              "    background-color: var(--bg-color);\n",
              "    border: none;\n",
              "    border-radius: 50%;\n",
              "    cursor: pointer;\n",
              "    display: none;\n",
              "    fill: var(--fill-color);\n",
              "    height: 32px;\n",
              "    padding: 0;\n",
              "    width: 32px;\n",
              "  }\n",
              "\n",
              "  .colab-df-quickchart:hover {\n",
              "    background-color: var(--hover-bg-color);\n",
              "    box-shadow: 0 1px 2px rgba(60, 64, 67, 0.3), 0 1px 3px 1px rgba(60, 64, 67, 0.15);\n",
              "    fill: var(--button-hover-fill-color);\n",
              "  }\n",
              "\n",
              "  .colab-df-quickchart-complete:disabled,\n",
              "  .colab-df-quickchart-complete:disabled:hover {\n",
              "    background-color: var(--disabled-bg-color);\n",
              "    fill: var(--disabled-fill-color);\n",
              "    box-shadow: none;\n",
              "  }\n",
              "\n",
              "  .colab-df-spinner {\n",
              "    border: 2px solid var(--fill-color);\n",
              "    border-color: transparent;\n",
              "    border-bottom-color: var(--fill-color);\n",
              "    animation:\n",
              "      spin 1s steps(1) infinite;\n",
              "  }\n",
              "\n",
              "  @keyframes spin {\n",
              "    0% {\n",
              "      border-color: transparent;\n",
              "      border-bottom-color: var(--fill-color);\n",
              "      border-left-color: var(--fill-color);\n",
              "    }\n",
              "    20% {\n",
              "      border-color: transparent;\n",
              "      border-left-color: var(--fill-color);\n",
              "      border-top-color: var(--fill-color);\n",
              "    }\n",
              "    30% {\n",
              "      border-color: transparent;\n",
              "      border-left-color: var(--fill-color);\n",
              "      border-top-color: var(--fill-color);\n",
              "      border-right-color: var(--fill-color);\n",
              "    }\n",
              "    40% {\n",
              "      border-color: transparent;\n",
              "      border-right-color: var(--fill-color);\n",
              "      border-top-color: var(--fill-color);\n",
              "    }\n",
              "    60% {\n",
              "      border-color: transparent;\n",
              "      border-right-color: var(--fill-color);\n",
              "    }\n",
              "    80% {\n",
              "      border-color: transparent;\n",
              "      border-right-color: var(--fill-color);\n",
              "      border-bottom-color: var(--fill-color);\n",
              "    }\n",
              "    90% {\n",
              "      border-color: transparent;\n",
              "      border-bottom-color: var(--fill-color);\n",
              "    }\n",
              "  }\n",
              "</style>\n",
              "\n",
              "      <script>\n",
              "        async function quickchart(key) {\n",
              "          const quickchartButtonEl =\n",
              "            document.querySelector('#' + key + ' button');\n",
              "          quickchartButtonEl.disabled = true;  // To prevent multiple clicks.\n",
              "          quickchartButtonEl.classList.add('colab-df-spinner');\n",
              "          try {\n",
              "            const charts = await google.colab.kernel.invokeFunction(\n",
              "                'suggestCharts', [key], {});\n",
              "          } catch (error) {\n",
              "            console.error('Error during call to suggestCharts:', error);\n",
              "          }\n",
              "          quickchartButtonEl.classList.remove('colab-df-spinner');\n",
              "          quickchartButtonEl.classList.add('colab-df-quickchart-complete');\n",
              "        }\n",
              "        (() => {\n",
              "          let quickchartButtonEl =\n",
              "            document.querySelector('#df-2e051174-19a7-4bad-acae-75c21a7b5a03 button');\n",
              "          quickchartButtonEl.style.display =\n",
              "            google.colab.kernel.accessAllowed ? 'block' : 'none';\n",
              "        })();\n",
              "      </script>\n",
              "    </div>\n",
              "\n",
              "    </div>\n",
              "  </div>\n"
            ],
            "application/vnd.google.colaboratory.intrinsic+json": {
              "type": "dataframe",
              "summary": "{\n  \"name\": \"hdf\",\n  \"rows\": 8,\n  \"fields\": [\n    {\n      \"column\": \"age\",\n      \"properties\": {\n        \"dtype\": \"number\",\n        \"std\": 450.77280891220397,\n        \"min\": 14.05537781903813,\n        \"max\": 1310.0,\n        \"num_unique_values\": 8,\n        \"samples\": [\n          39.16641221374046,\n          39.0,\n          1310.0\n        ],\n        \"semantic_type\": \"\",\n        \"description\": \"\"\n      }\n    },\n    {\n      \"column\": \"BMI\",\n      \"properties\": {\n        \"dtype\": \"number\",\n        \"std\": 455.18235238065927,\n        \"min\": 6.110302207700597,\n        \"max\": 1315.0,\n        \"num_unique_values\": 8,\n        \"samples\": [\n          30.638216730038025,\n          30.305,\n          1315.0\n        ],\n        \"semantic_type\": \"\",\n        \"description\": \"\"\n      }\n    },\n    {\n      \"column\": \"Children\",\n      \"properties\": {\n        \"dtype\": \"number\",\n        \"std\": 472.5368318870757,\n        \"min\": 0.0,\n        \"max\": 1338.0,\n        \"num_unique_values\": 7,\n        \"samples\": [\n          1338.0,\n          1.0949177877429,\n          2.0\n        ],\n        \"semantic_type\": \"\",\n        \"description\": \"\"\n      }\n    },\n    {\n      \"column\": \"health_insurance_price\",\n      \"properties\": {\n        \"dtype\": \"number\",\n        \"std\": 20381.453235438486,\n        \"min\": 1121.8739,\n        \"max\": 63770.42801,\n        \"num_unique_values\": 8,\n        \"samples\": [\n          13268.527719467815,\n          9382.033,\n          1336.0\n        ],\n        \"semantic_type\": \"\",\n        \"description\": \"\"\n      }\n    }\n  ]\n}"
            }
          },
          "metadata": {},
          "execution_count": 11
        }
      ]
    },
    {
      "cell_type": "markdown",
      "source": [
        "Summary statistics for categorical columns"
      ],
      "metadata": {
        "id": "f9HpSdUOfce3"
      }
    },
    {
      "cell_type": "code",
      "source": [
        "print(\"\\nCategorical Feature Summary:\")\n",
        "print(hdf.describe(include=['object']))"
      ],
      "metadata": {
        "colab": {
          "base_uri": "https://localhost:8080/"
        },
        "id": "CygMWHLZW0gS",
        "outputId": "13530d5c-b82b-43b4-ea25-63e3fa36c6a0"
      },
      "execution_count": null,
      "outputs": [
        {
          "output_type": "stream",
          "name": "stdout",
          "text": [
            "\n",
            "Categorical Feature Summary:\n",
            "       gender smoking_status   location\n",
            "count    1338           1338       1338\n",
            "unique      2              2          4\n",
            "top      male             no  southeast\n",
            "freq      676           1064        364\n"
          ]
        }
      ]
    },
    {
      "cell_type": "markdown",
      "source": [
        "Imbalance check and value count for 'gender' column"
      ],
      "metadata": {
        "id": "t57_oRx3fm7K"
      }
    },
    {
      "cell_type": "code",
      "source": [
        "gender_counts = hdf['gender'].value_counts()\n",
        "print(\"value count of\",gender_counts)\n",
        "print(\"\\nClass Distribution (Imbalance Check for Gender):\")\n",
        "print(hdf['gender'].value_counts(normalize=True) * 100)\n"
      ],
      "metadata": {
        "colab": {
          "base_uri": "https://localhost:8080/"
        },
        "collapsed": true,
        "id": "eWeKX5fkiHZ6",
        "outputId": "ac8ff236-e98f-4c4e-986a-7dfbe6a29627"
      },
      "execution_count": 9,
      "outputs": [
        {
          "output_type": "stream",
          "name": "stdout",
          "text": [
            "value count of gender\n",
            "male      676\n",
            "female    662\n",
            "Name: count, dtype: int64\n",
            "\n",
            "Class Distribution (Imbalance Check for Gender):\n",
            "gender\n",
            "male      50.523169\n",
            "female    49.476831\n",
            "Name: proportion, dtype: float64\n"
          ]
        }
      ]
    },
    {
      "cell_type": "markdown",
      "source": [
        "Imbalance check and value count for 'smoking_status' column\n",
        "\n"
      ],
      "metadata": {
        "id": "_5vQAVwsjJ3i"
      }
    },
    {
      "cell_type": "code",
      "source": [
        "smoking_status_counts = hdf['smoking_status'].value_counts()\n",
        "print(\"value count of \",smoking_status_counts)\n",
        "print(\"\\nClass Distribution (Imbalance Check for smoking_status):\")\n",
        "print(hdf['smoking_status'].value_counts(normalize=True) * 100)"
      ],
      "metadata": {
        "colab": {
          "base_uri": "https://localhost:8080/"
        },
        "collapsed": true,
        "id": "eHv32FgWjQGZ",
        "outputId": "562db527-ab46-495b-8e8a-f5d3037fe8ec"
      },
      "execution_count": 10,
      "outputs": [
        {
          "output_type": "stream",
          "name": "stdout",
          "text": [
            "value count of  smoking_status\n",
            "no     1064\n",
            "yes     274\n",
            "Name: count, dtype: int64\n",
            "\n",
            "Class Distribution (Imbalance Check for smoking_status):\n",
            "smoking_status\n",
            "no     79.521674\n",
            "yes    20.478326\n",
            "Name: proportion, dtype: float64\n"
          ]
        }
      ]
    },
    {
      "cell_type": "markdown",
      "source": [
        "kurt Imbalance check  for numerical columns"
      ],
      "metadata": {
        "id": "U3MXubHWkmsk"
      }
    },
    {
      "cell_type": "code",
      "source": [
        "numeric_columns = hdf.select_dtypes(include=['number'])\n",
        "for column in numeric_columns:\n",
        "    kurt = numeric_columns.kurt()\n",
        "print(f\"Kurtosis of column : \\n{kurt}\\n\")\n"
      ],
      "metadata": {
        "colab": {
          "base_uri": "https://localhost:8080/"
        },
        "id": "sAOu98M1lJHs",
        "outputId": "f2b085b9-5475-4b80-a963-fca0bc582699"
      },
      "execution_count": 11,
      "outputs": [
        {
          "output_type": "stream",
          "name": "stdout",
          "text": [
            "Kurtosis of column : \n",
            "age                      -1.245934\n",
            "BMI                      -0.046949\n",
            "Children                  0.202454\n",
            "health_insurance_price    1.609166\n",
            "dtype: float64\n",
            "\n"
          ]
        }
      ]
    },
    {
      "cell_type": "markdown",
      "source": [
        "Histogram for numerical columns"
      ],
      "metadata": {
        "id": "-w20kGUXv2HJ"
      }
    },
    {
      "cell_type": "code",
      "source": [
        "hdf.hist(figsize=(12, 10), bins=30)\n",
        "plt.suptitle(\"Feature Distributions\", fontsize=16)\n",
        "plt.show()"
      ],
      "metadata": {
        "colab": {
          "base_uri": "https://localhost:8080/",
          "height": 930
        },
        "id": "iDal_gOBvMeF",
        "outputId": "6eaf61b7-7d69-41ed-d65e-94defbe44a67"
      },
      "execution_count": null,
      "outputs": [
        {
          "output_type": "display_data",
          "data": {
            "text/plain": [
              "<Figure size 1200x1000 with 4 Axes>"
            ],
            "image/png": "[encoded data removed]"
          },
          "metadata": {}
        }
      ]
    },
    {
      "cell_type": "markdown",
      "source": [
        "Countplot for categorical variables"
      ],
      "metadata": {
        "id": "xINI7su1wQj-"
      }
    },
    {
      "cell_type": "code",
      "source": [
        "categorical_features = hdf.describe(include=['object'])\n",
        "plt.figure(figsize=(12, 5))\n",
        "for i, col in enumerate(categorical_features, 1):\n",
        "    plt.subplot(1, 3, i)\n",
        "    sns.countplot(data=hdf, x=col, palette=\"Set2\")\n",
        "    plt.title(f\"Distribution of {col}\")\n",
        "    plt.xticks()\n",
        "plt.tight_layout()\n",
        "plt.show()"
      ],
      "metadata": {
        "colab": {
          "base_uri": "https://localhost:8080/",
          "height": 755
        },
        "id": "ooBI8bvRwRIa",
        "outputId": "714aea6f-b505-471a-db1d-5d27ff71d44c"
      },
      "execution_count": null,
      "outputs": [
        {
          "output_type": "stream",
          "name": "stderr",
          "text": [
            "/tmp/ipython-input-317154419.py:5: FutureWarning: \n",
            "\n",
            "Passing `palette` without assigning `hue` is deprecated and will be removed in v0.14.0. Assign the `x` variable to `hue` and set `legend=False` for the same effect.\n",
            "\n",
            "  sns.countplot(data=hdf, x=col, palette=\"Set2\")\n",
            "/tmp/ipython-input-317154419.py:5: FutureWarning: \n",
            "\n",
            "Passing `palette` without assigning `hue` is deprecated and will be removed in v0.14.0. Assign the `x` variable to `hue` and set `legend=False` for the same effect.\n",
            "\n",
            "  sns.countplot(data=hdf, x=col, palette=\"Set2\")\n",
            "/tmp/ipython-input-317154419.py:5: FutureWarning: \n",
            "\n",
            "Passing `palette` without assigning `hue` is deprecated and will be removed in v0.14.0. Assign the `x` variable to `hue` and set `legend=False` for the same effect.\n",
            "\n",
            "  sns.countplot(data=hdf, x=col, palette=\"Set2\")\n"
          ]
        },
        {
          "output_type": "display_data",
          "data": {
            "text/plain": [
              "<Figure size 1200x500 with 3 Axes>"
            ],
            "image/png": "[encoded data removed]"
          },
          "metadata": {}
        }
      ]
    },
    {
      "cell_type": "markdown",
      "source": [
        "Boxplot for numerical features to check for outliers"
      ],
      "metadata": {
        "id": "4xBslVSWxivU"
      }
    },
    {
      "cell_type": "code",
      "source": [
        "plt.figure(figsize=(12, 8))\n",
        "for i, col in enumerate(numeric_columns, 1):\n",
        "    plt.subplot(3, 3, i)\n",
        "    sns.boxplot(data=hdf, y=col, palette=\"Set2\")\n",
        "    plt.title(f\"Boxplot of {col}\")\n",
        "    plt.ylabel(\"\")\n",
        "plt.tight_layout()\n",
        "plt.show()"
      ],
      "metadata": {
        "colab": {
          "base_uri": "https://localhost:8080/",
          "height": 881
        },
        "id": "_oMuQnvPx13U",
        "outputId": "52f61e14-8d23-4633-9847-993ac7c9ac77"
      },
      "execution_count": null,
      "outputs": [
        {
          "output_type": "stream",
          "name": "stderr",
          "text": [
            "/tmp/ipython-input-1587461176.py:4: FutureWarning: \n",
            "\n",
            "Passing `palette` without assigning `hue` is deprecated and will be removed in v0.14.0. Assign the `x` variable to `hue` and set `legend=False` for the same effect.\n",
            "\n",
            "  sns.boxplot(data=hdf, y=col, palette=\"Set2\")\n",
            "/tmp/ipython-input-1587461176.py:4: FutureWarning: \n",
            "\n",
            "Passing `palette` without assigning `hue` is deprecated and will be removed in v0.14.0. Assign the `x` variable to `hue` and set `legend=False` for the same effect.\n",
            "\n",
            "  sns.boxplot(data=hdf, y=col, palette=\"Set2\")\n",
            "/tmp/ipython-input-1587461176.py:4: FutureWarning: \n",
            "\n",
            "Passing `palette` without assigning `hue` is deprecated and will be removed in v0.14.0. Assign the `x` variable to `hue` and set `legend=False` for the same effect.\n",
            "\n",
            "  sns.boxplot(data=hdf, y=col, palette=\"Set2\")\n",
            "/tmp/ipython-input-1587461176.py:4: FutureWarning: \n",
            "\n",
            "Passing `palette` without assigning `hue` is deprecated and will be removed in v0.14.0. Assign the `x` variable to `hue` and set `legend=False` for the same effect.\n",
            "\n",
            "  sns.boxplot(data=hdf, y=col, palette=\"Set2\")\n"
          ]
        },
        {
          "output_type": "display_data",
          "data": {
            "text/plain": [
              "<Figure size 1200x800 with 4 Axes>"
            ],
            "image/png": "[encoded data removed]"
          },
          "metadata": {}
        }
      ]
    },
    {
      "cell_type": "markdown",
      "source": [
        "Correlation matrix (only for numerical features)"
      ],
      "metadata": {
        "id": "By1-1jfWyi_L"
      }
    },
    {
      "cell_type": "code",
      "source": [
        "plt.figure(figsize=(6,4))\n",
        "sns.heatmap(hdf.select_dtypes(include=['number']).corr(), annot=True, cmap=\"coolwarm\", fmt=\".2f\", linewidths=0.5)\n",
        "plt.title(\"Correlation Matrix\")\n",
        "plt.show()"
      ],
      "metadata": {
        "colab": {
          "base_uri": "https://localhost:8080/",
          "height": 537
        },
        "id": "_rhg-tfPynvK",
        "outputId": "2cf4ac66-8299-4f20-86e2-4bfb06f0ce6a"
      },
      "execution_count": 12,
      "outputs": [
        {
          "output_type": "display_data",
          "data": {
            "text/plain": [
              "<Figure size 600x400 with 2 Axes>"
            ],
            "image/png": "[encoded data removed]"
          },
          "metadata": {}
        }
      ]
    },
    {
      "cell_type": "markdown",
      "source": [
        "# **Techniques used:**"
      ],
      "metadata": {
        "id": "WTeRXaYpythp"
      }
    },
    {
      "cell_type": "markdown",
      "source": [
        "\n",
        "\n",
        "*   Correlation matrix to find feature relationships.\n",
        "*   Boxplot for outliners.\n",
        "*   Histograms for variable distribution.\n",
        "*   Countplot for categorical variables.\n",
        "\n",
        "\n"
      ],
      "metadata": {
        "id": "58__u7Befksm"
      }
    },
    {
      "cell_type": "markdown",
      "source": [
        "#  **Data Preprocessing or Data Cleaning**"
      ],
      "metadata": {
        "id": "_rg28Pt1zWoH"
      }
    },
    {
      "cell_type": "markdown",
      "source": [
        "***Handling Duplicates***"
      ],
      "metadata": {
        "id": "0GMQe3At2rHf"
      }
    },
    {
      "cell_type": "markdown",
      "source": [
        "Remove duplicate rows and verification of duplicate removal with help of size"
      ],
      "metadata": {
        "id": "HAvaWkq80yB-"
      }
    },
    {
      "cell_type": "code",
      "source": [
        "print(\"Shape before removing duplicates:\", hdf.shape)\n",
        "print(\"Duplicate Rows:\", hdf.duplicated().sum())\n",
        "hdf = hdf.drop_duplicates()\n",
        "print(\"Shape after removing duplicates:\", hdf.shape)\n"
      ],
      "metadata": {
        "colab": {
          "base_uri": "https://localhost:8080/"
        },
        "id": "_K3zqMVuzlDu",
        "outputId": "bf6c1575-4957-4724-dfc8-147e7cacf730"
      },
      "execution_count": 13,
      "outputs": [
        {
          "output_type": "stream",
          "name": "stdout",
          "text": [
            "Shape before removing duplicates: (1338, 7)\n",
            "Duplicate Rows: 1\n",
            "Shape after removing duplicates: (1337, 7)\n"
          ]
        }
      ]
    },
    {
      "cell_type": "markdown",
      "source": [
        "***Handling Missing Values***"
      ],
      "metadata": {
        "id": "-tXR_x7H2kkP"
      }
    },
    {
      "cell_type": "markdown",
      "source": [
        "Check missing values before imputation"
      ],
      "metadata": {
        "id": "RLcXOR7U5IVn"
      }
    },
    {
      "cell_type": "code",
      "source": [
        "print(\"Missing values before imputation:\")\n",
        "print(hdf.isnull().sum())"
      ],
      "metadata": {
        "colab": {
          "base_uri": "https://localhost:8080/"
        },
        "id": "tGMcmiYe3LN3",
        "outputId": "c73112c4-3857-46a1-c04f-8d94376655b4"
      },
      "execution_count": 14,
      "outputs": [
        {
          "output_type": "stream",
          "name": "stdout",
          "text": [
            "Missing values before imputation:\n",
            "age                       28\n",
            "gender                     0\n",
            "BMI                       23\n",
            "Children                   0\n",
            "smoking_status             0\n",
            "location                   0\n",
            "health_insurance_price     2\n",
            "dtype: int64\n"
          ]
        }
      ]
    },
    {
      "cell_type": "markdown",
      "source": [
        "Creating separate copies for different imputation techniques"
      ],
      "metadata": {
        "id": "lFj5HO605R6u"
      }
    },
    {
      "cell_type": "code",
      "source": [
        "hdf_mean = hdf.copy()\n",
        "hdf_mode = hdf.copy()\n",
        "hdf_median = hdf.copy()\n",
        "hdf_interpolation = hdf.copy()\n",
        "hdf_ffill = hdf.copy()\n",
        "hdf_bfill = hdf.copy()"
      ],
      "metadata": {
        "id": "y7dBhaUA5RN6"
      },
      "execution_count": 15,
      "outputs": []
    },
    {
      "cell_type": "markdown",
      "source": [
        "Retreving Numerical Columns."
      ],
      "metadata": {
        "id": "-ElVmsVz5ryB"
      }
    },
    {
      "cell_type": "code",
      "source": [
        "numcols=hdf.select_dtypes(include=['number']).columns\n",
        "numcols\n",
        "print(\"Null-values in Numerical columns are:\",hdf[numcols].isnull().sum())"
      ],
      "metadata": {
        "colab": {
          "base_uri": "https://localhost:8080/"
        },
        "id": "MgFovzd19I4k",
        "outputId": "ef33b9ec-ce6f-4d24-d6fe-9f65889b0d46"
      },
      "execution_count": 16,
      "outputs": [
        {
          "output_type": "stream",
          "name": "stdout",
          "text": [
            "Null-values in Numerical columns are: age                       28\n",
            "BMI                       23\n",
            "Children                   0\n",
            "health_insurance_price     2\n",
            "dtype: int64\n"
          ]
        }
      ]
    },
    {
      "cell_type": "markdown",
      "source": [
        "Retreving categorical columns."
      ],
      "metadata": {
        "id": "md5qu_zudYrg"
      }
    },
    {
      "cell_type": "code",
      "source": [
        "catcols=hdf.select_dtypes(include=['object']).columns\n",
        "catcols"
      ],
      "metadata": {
        "colab": {
          "base_uri": "https://localhost:8080/"
        },
        "id": "PxY7r4JCdezN",
        "outputId": "48a88837-c15d-47b9-b2a7-a22b838133f5"
      },
      "execution_count": 17,
      "outputs": [
        {
          "output_type": "execute_result",
          "data": {
            "text/plain": [
              "Index(['gender', 'smoking_status', 'location'], dtype='object')"
            ]
          },
          "metadata": {},
          "execution_count": 17
        }
      ]
    },
    {
      "cell_type": "markdown",
      "source": [
        "Mean Imputation (For numerical columns)\n",
        "\n"
      ],
      "metadata": {
        "id": "K1MQC-f-cd4c"
      }
    },
    {
      "cell_type": "code",
      "source": [
        "for col in numcols:\n",
        "    mean_val = hdf_mean[col].mean()\n",
        "    hdf_mean[col] = hdf_mean[col].fillna(mean_val)"
      ],
      "metadata": {
        "id": "bqn7ky9W-YEn"
      },
      "execution_count": 18,
      "outputs": []
    },
    {
      "cell_type": "markdown",
      "source": [
        "Checking for Null-values after mean imputation on numerical columns."
      ],
      "metadata": {
        "id": "FUIu1Mu1coEz"
      }
    },
    {
      "cell_type": "code",
      "source": [
        "print(\"Missing values after mean imputation:\")\n",
        "print(hdf_mean.isnull().sum())"
      ],
      "metadata": {
        "colab": {
          "base_uri": "https://localhost:8080/"
        },
        "id": "NZbCEi-C6j6r",
        "outputId": "8013682d-4087-4760-a1a6-ff61ef95a57a"
      },
      "execution_count": 19,
      "outputs": [
        {
          "output_type": "stream",
          "name": "stdout",
          "text": [
            "Missing values after mean imputation:\n",
            "age                       0\n",
            "gender                    0\n",
            "BMI                       0\n",
            "Children                  0\n",
            "smoking_status            0\n",
            "location                  0\n",
            "health_insurance_price    0\n",
            "dtype: int64\n"
          ]
        }
      ]
    },
    {
      "cell_type": "markdown",
      "source": [
        "Mode Imputation (For categorical columns)\n",
        "No Null-values in categorical columns in our data."
      ],
      "metadata": {
        "id": "5GWGmSnSc3dw"
      }
    },
    {
      "cell_type": "code",
      "source": [
        "for col in catcols:\n",
        "    mode_val = hdf_mode[col].mode()[0]\n",
        "    hdf_mode[col] = hdf_mode[col].fillna(mode_val)\n",
        "# Checking for null-values after mode imputation on categorical columns.\n",
        "print(\"Missing values after mode imputation:\")\n",
        "print(hdf_mode.isnull().sum())\n",
        "\n"
      ],
      "metadata": {
        "colab": {
          "base_uri": "https://localhost:8080/"
        },
        "id": "XMUYXJrCc_hZ",
        "outputId": "2cca02c3-5b26-44a5-845f-21caafa9d762"
      },
      "execution_count": 20,
      "outputs": [
        {
          "output_type": "stream",
          "name": "stdout",
          "text": [
            "Missing values after mode imputation:\n",
            "age                       28\n",
            "gender                     0\n",
            "BMI                       23\n",
            "Children                   0\n",
            "smoking_status             0\n",
            "location                   0\n",
            "health_insurance_price     2\n",
            "dtype: int64\n"
          ]
        }
      ]
    },
    {
      "cell_type": "markdown",
      "source": [
        "Median Imputation (For numerical columns)"
      ],
      "metadata": {
        "id": "54lpCt_2fkb3"
      }
    },
    {
      "cell_type": "code",
      "source": [
        "for col in numcols:\n",
        "    median_val = hdf_median[col].mean()\n",
        "    hdf_median[col] = hdf_median[col].fillna(median_val)"
      ],
      "metadata": {
        "id": "KmSYpb63fxs9"
      },
      "execution_count": 21,
      "outputs": []
    },
    {
      "cell_type": "markdown",
      "source": [
        "Checking for Null-values after median imputation on numerical columns."
      ],
      "metadata": {
        "id": "YcKUMeQ4gDOQ"
      }
    },
    {
      "cell_type": "code",
      "source": [
        "print(\"Missing values after median imputation:\")\n",
        "print(hdf_median.isnull().sum())"
      ],
      "metadata": {
        "colab": {
          "base_uri": "https://localhost:8080/"
        },
        "id": "SEwz9izygHcI",
        "outputId": "b4147e5f-057e-49ea-e805-7b069d07f9a3"
      },
      "execution_count": 22,
      "outputs": [
        {
          "output_type": "stream",
          "name": "stdout",
          "text": [
            "Missing values after median imputation:\n",
            "age                       0\n",
            "gender                    0\n",
            "BMI                       0\n",
            "Children                  0\n",
            "smoking_status            0\n",
            "location                  0\n",
            "health_insurance_price    0\n",
            "dtype: int64\n"
          ]
        }
      ]
    },
    {
      "cell_type": "markdown",
      "source": [
        "checking for null index's of BMI column before imputation."
      ],
      "metadata": {
        "id": "AbT7OCW-n3Fo"
      }
    },
    {
      "cell_type": "code",
      "source": [
        "BMInull_indexes  = hdf_interpolation[hdf_interpolation['BMI'].isnull()].index\n",
        "BMInull_indexes"
      ],
      "metadata": {
        "colab": {
          "base_uri": "https://localhost:8080/"
        },
        "id": "mFcFnGg0oHnd",
        "outputId": "7de23783-09fc-4751-99d6-8adc67f9ac21"
      },
      "execution_count": 23,
      "outputs": [
        {
          "output_type": "execute_result",
          "data": {
            "text/plain": [
              "Index([   0,   59,  107,  130,  159,  250,  312,  405,  460,  516,  558,  642,\n",
              "        709,  739,  767,  836,  933, 1020, 1063, 1107, 1168, 1263, 1323],\n",
              "      dtype='int64')"
            ]
          },
          "metadata": {},
          "execution_count": 23
        }
      ]
    },
    {
      "cell_type": "markdown",
      "source": [
        "Interpolation for numerical columns (Fills missing values using linear interpolation)"
      ],
      "metadata": {
        "id": "5NYG3QXmow_F"
      }
    },
    {
      "cell_type": "code",
      "source": [
        "for col in numcols:\n",
        "    ip_val = hdf_interpolation[col].interpolate(method=\"linear\")\n",
        "    hdf_interpolation[col] = hdf_interpolation[col].fillna(ip_val)"
      ],
      "metadata": {
        "id": "iIcTScysoyO9"
      },
      "execution_count": 24,
      "outputs": []
    },
    {
      "cell_type": "markdown",
      "source": [
        "Checking missing values after Interpolation"
      ],
      "metadata": {
        "id": "o6-TGQIoo6vb"
      }
    },
    {
      "cell_type": "code",
      "source": [
        "print(\"\\nMissing values after Interpolation:\")\n",
        "hdf_interpolation.isnull().sum()\n"
      ],
      "metadata": {
        "colab": {
          "base_uri": "https://localhost:8080/",
          "height": 338
        },
        "id": "8EusjPnLo_V3",
        "outputId": "55644714-9060-4782-b302-d9dcb4735fad"
      },
      "execution_count": 25,
      "outputs": [
        {
          "output_type": "stream",
          "name": "stdout",
          "text": [
            "\n",
            "Missing values after Interpolation:\n"
          ]
        },
        {
          "output_type": "execute_result",
          "data": {
            "text/plain": [
              "age                       0\n",
              "gender                    0\n",
              "BMI                       1\n",
              "Children                  0\n",
              "smoking_status            0\n",
              "location                  0\n",
              "health_insurance_price    0\n",
              "dtype: int64"
            ],
            "text/html": [
              "<div>\n",
              "<style scoped>\n",
              "    .dataframe tbody tr th:only-of-type {\n",
              "        vertical-align: middle;\n",
              "    }\n",
              "\n",
              "    .dataframe tbody tr th {\n",
              "        vertical-align: top;\n",
              "    }\n",
              "\n",
              "    .dataframe thead th {\n",
              "        text-align: right;\n",
              "    }\n",
              "</style>\n",
              "<table border=\"1\" class=\"dataframe\">\n",
              "  <thead>\n",
              "    <tr style=\"text-align: right;\">\n",
              "      <th></th>\n",
              "      <th>0</th>\n",
              "    </tr>\n",
              "  </thead>\n",
              "  <tbody>\n",
              "    <tr>\n",
              "      <th>age</th>\n",
              "      <td>0</td>\n",
              "    </tr>\n",
              "    <tr>\n",
              "      <th>gender</th>\n",
              "      <td>0</td>\n",
              "    </tr>\n",
              "    <tr>\n",
              "      <th>BMI</th>\n",
              "      <td>1</td>\n",
              "    </tr>\n",
              "    <tr>\n",
              "      <th>Children</th>\n",
              "      <td>0</td>\n",
              "    </tr>\n",
              "    <tr>\n",
              "      <th>smoking_status</th>\n",
              "      <td>0</td>\n",
              "    </tr>\n",
              "    <tr>\n",
              "      <th>location</th>\n",
              "      <td>0</td>\n",
              "    </tr>\n",
              "    <tr>\n",
              "      <th>health_insurance_price</th>\n",
              "      <td>0</td>\n",
              "    </tr>\n",
              "  </tbody>\n",
              "</table>\n",
              "</div><br><label><b>dtype:</b> int64</label>"
            ]
          },
          "metadata": {},
          "execution_count": 25
        }
      ]
    },
    {
      "cell_type": "markdown",
      "source": [
        "Checking for Null index's after imputation.\n",
        "(Interpolation works between known values)"
      ],
      "metadata": {
        "id": "-_98wJ6jp7t0"
      }
    },
    {
      "cell_type": "code",
      "source": [
        "BMInull_indexes  = hdf_interpolation[hdf_interpolation['BMI'].isnull()].index\n",
        "BMInull_indexes"
      ],
      "metadata": {
        "colab": {
          "base_uri": "https://localhost:8080/"
        },
        "id": "kLCjZTy0pskh",
        "outputId": "851520f6-b39f-40f4-953f-1d3771144709"
      },
      "execution_count": 26,
      "outputs": [
        {
          "output_type": "execute_result",
          "data": {
            "text/plain": [
              "Index([0], dtype='int64')"
            ]
          },
          "metadata": {},
          "execution_count": 26
        }
      ]
    },
    {
      "cell_type": "markdown",
      "source": [
        "Forward Fill (ffill) - Uses previous value to fill missing values"
      ],
      "metadata": {
        "id": "9PDRjYoPrt3k"
      }
    },
    {
      "cell_type": "code",
      "source": [
        "hdf_ffill = hdf_ffill.fillna(method=\"ffill\")"
      ],
      "metadata": {
        "colab": {
          "base_uri": "https://localhost:8080/"
        },
        "id": "Wijq0YwLr24_",
        "outputId": "7dbc7c50-35b5-45d1-a93b-f5b8c9d3daa3"
      },
      "execution_count": 27,
      "outputs": [
        {
          "output_type": "stream",
          "name": "stderr",
          "text": [
            "/tmp/ipython-input-3614433578.py:1: FutureWarning: DataFrame.fillna with 'method' is deprecated and will raise in a future version. Use obj.ffill() or obj.bfill() instead.\n",
            "  hdf_ffill = hdf_ffill.fillna(method=\"ffill\")\n"
          ]
        }
      ]
    },
    {
      "cell_type": "markdown",
      "source": [
        "Checking missing values after Forward Fill."
      ],
      "metadata": {
        "id": "ckiPKEc4r_kS"
      }
    },
    {
      "cell_type": "code",
      "source": [
        "print(\"\\nMissing values after Forward Fill (ffill):\")\n",
        "print(hdf_ffill.isnull().sum())"
      ],
      "metadata": {
        "colab": {
          "base_uri": "https://localhost:8080/"
        },
        "id": "NLOMiI22sFl7",
        "outputId": "536e4936-72d4-431d-ec99-21eb2b077189"
      },
      "execution_count": 28,
      "outputs": [
        {
          "output_type": "stream",
          "name": "stdout",
          "text": [
            "\n",
            "Missing values after Forward Fill (ffill):\n",
            "age                       0\n",
            "gender                    0\n",
            "BMI                       1\n",
            "Children                  0\n",
            "smoking_status            0\n",
            "location                  0\n",
            "health_insurance_price    0\n",
            "dtype: int64\n"
          ]
        }
      ]
    },
    {
      "cell_type": "markdown",
      "source": [
        "Backward Fill (bfill) - Uses next value to fill missing values"
      ],
      "metadata": {
        "id": "99IcIeBBsYP1"
      }
    },
    {
      "cell_type": "code",
      "source": [
        "hdf_bfill = hdf_bfill.fillna(method=\"bfill\")"
      ],
      "metadata": {
        "colab": {
          "base_uri": "https://localhost:8080/"
        },
        "id": "Ohx_lpvpsZU5",
        "outputId": "7aa7ac34-af20-4e60-9262-a7572598ac91"
      },
      "execution_count": 29,
      "outputs": [
        {
          "output_type": "stream",
          "name": "stderr",
          "text": [
            "/tmp/ipython-input-2826692569.py:1: FutureWarning: DataFrame.fillna with 'method' is deprecated and will raise in a future version. Use obj.ffill() or obj.bfill() instead.\n",
            "  hdf_bfill = hdf_bfill.fillna(method=\"bfill\")\n"
          ]
        }
      ]
    },
    {
      "cell_type": "markdown",
      "source": [
        "Checking Missing values after Backward Fill."
      ],
      "metadata": {
        "id": "g4ApgiwMseEP"
      }
    },
    {
      "cell_type": "code",
      "source": [
        "print(\"\\nMissing values after Backward Fill (bfill):\")\n",
        "print(hdf_bfill.isnull().sum())"
      ],
      "metadata": {
        "colab": {
          "base_uri": "https://localhost:8080/"
        },
        "id": "2CIyLV4Bso0Q",
        "outputId": "a0ab8920-d3e3-4548-c318-b1c5c14df281"
      },
      "execution_count": 30,
      "outputs": [
        {
          "output_type": "stream",
          "name": "stdout",
          "text": [
            "\n",
            "Missing values after Backward Fill (bfill):\n",
            "age                       0\n",
            "gender                    0\n",
            "BMI                       0\n",
            "Children                  0\n",
            "smoking_status            0\n",
            "location                  0\n",
            "health_insurance_price    0\n",
            "dtype: int64\n"
          ]
        }
      ]
    },
    {
      "cell_type": "markdown",
      "source": [
        "find accurate handling method(Mean,Median,Bfill)"
      ],
      "metadata": {
        "id": "UXGA0SqltYCi"
      }
    },
    {
      "cell_type": "code",
      "source": [
        "import pandas as pd\n",
        "import numpy as np\n",
        "from sklearn.metrics import mean_absolute_error\n",
        "\n",
        "def compare_imputation_methods(hdf, missing_frac=0.1, random_state=0):\n",
        "\n",
        "    # Step 1: Keep only numeric columns and drop any rows with NaNs\n",
        "    numeric_df = hdf.select_dtypes(include='number').dropna().copy()\n",
        "    if numeric_df.empty:\n",
        "        raise ValueError(\"No fully observed numeric data available for evaluation.\")\n",
        "\n",
        "    np.random.seed(random_state)\n",
        "    original_df = numeric_df.copy()\n",
        "    missing_df = numeric_df.copy()\n",
        "    numeric_cols = numeric_df.columns\n",
        "\n",
        "    # Step 2: Inject missing values\n",
        "    for col in numeric_cols:\n",
        "        missing_indices = missing_df[col].dropna().sample(frac=missing_frac).index\n",
        "        missing_df.loc[missing_indices, col] = np.nan\n",
        "\n",
        "    # Step 3: Imputation methods\n",
        "    mean_df = missing_df.copy()\n",
        "    median_df = missing_df.copy()\n",
        "    bfill_df = missing_df.copy()\n",
        "\n",
        "    for col in numeric_cols:\n",
        "        mean_df[col] = mean_df[col].fillna(mean_df[col].mean())\n",
        "        median_df[col] = median_df[col].fillna(median_df[col].median())\n",
        "        bfill_df[col] = bfill_df[col].bfill()\n",
        "\n",
        "    # Step 4: Evaluation helper\n",
        "    def evaluate(original, imputed, miss_df, cols):\n",
        "        scores = {}\n",
        "        for col in cols:\n",
        "            nan_val = miss_df[col].isnull()\n",
        "            if nan_val.sum() == 0:\n",
        "                scores[col] = np.nan\n",
        "            else:\n",
        "                scores[col] = mean_absolute_error(original.loc[nan_val, col],\n",
        "                                                  imputed.loc[nan_val, col])\n",
        "        return scores\n",
        "\n",
        "    # Step 5: Compare results\n",
        "    results = {\n",
        "        'Mean': evaluate(original_df, mean_df, missing_df, numeric_cols),\n",
        "        'Median': evaluate(original_df, median_df, missing_df, numeric_cols),\n",
        "        'Bfill': evaluate(original_df, bfill_df, missing_df, numeric_cols)\n",
        "    }\n",
        "\n",
        "    return pd.DataFrame(results)\n",
        "mae_scores = compare_imputation_methods(hdf)\n",
        "print(mae_scores)\n",
        "\n"
      ],
      "metadata": {
        "colab": {
          "base_uri": "https://localhost:8080/"
        },
        "id": "Hk_zBMITHGsC",
        "outputId": "4be8c216-301d-4d7d-a37f-816312b76262"
      },
      "execution_count": 31,
      "outputs": [
        {
          "output_type": "stream",
          "name": "stdout",
          "text": [
            "                               Mean       Median         Bfill\n",
            "age                       12.403276    12.390625     17.117188\n",
            "BMI                        4.926016     4.945937      7.147500\n",
            "Children                   1.005785     0.984375      1.320312\n",
            "health_insurance_price  8769.655245  7896.097292  12277.554622\n"
          ]
        }
      ]
    },
    {
      "cell_type": "markdown",
      "source": [
        "***Handling Outliners***"
      ],
      "metadata": {
        "id": "itKvuqYeMo0u"
      }
    },
    {
      "cell_type": "markdown",
      "source": [
        "Using 'Median imputed data-set' as it has better performance than other missing value handling methods."
      ],
      "metadata": {
        "id": "FEgFhzFvM8o4"
      }
    },
    {
      "cell_type": "markdown",
      "source": [
        "Z-score is not performed because it's usually best to:\n",
        "\n",
        "Impute with the mean (to match the assumptions Z-score relies on).\n",
        "\n",
        "Better use IQR-based detection, which is less sensitive to distribution changes and works well with median imputation.\n",
        "\n"
      ],
      "metadata": {
        "id": "xFxdI9InWMzn"
      }
    },
    {
      "cell_type": "markdown",
      "source": [
        "Computing IQR"
      ],
      "metadata": {
        "id": "9o0rfDkaWMwO"
      }
    },
    {
      "cell_type": "code",
      "source": [
        "# Select only numeric columns\n",
        "numeric_col = hdf_median.select_dtypes(include=['number'])\n",
        "\n",
        "# Compute IQR\n",
        "Q1 = numeric_col.quantile(0.25)\n",
        "Q3 = numeric_col.quantile(0.75)\n",
        "IQR = Q3 - Q1\n",
        "\n",
        "# Detect outliers\n",
        "outliers_iqr = ((numeric_col < (Q1 - 1.5 * IQR)) | (numeric_col > (Q3 + 1.5 * IQR))).sum()\n",
        "print(\"\\nOutliers detected using IQR with median data:\\n\", outliers_iqr)\n",
        "\n",
        "numeric_df = hdf.select_dtypes(include=['number'])\n",
        "Q1 = numeric_df.quantile(0.25)\n",
        "Q3 = numeric_df.quantile(0.75)\n",
        "IQR = Q3 - Q1\n",
        "outliers_iqr = ((numeric_col < (Q1 - 1.5 * IQR)) | (numeric_col > (Q3 + 1.5 * IQR))).sum()\n",
        "print(\"\\nOutliers detected using IQR with original data :\\n\", outliers_iqr)"
      ],
      "metadata": {
        "colab": {
          "base_uri": "https://localhost:8080/"
        },
        "id": "H7qehZ05Ojpr",
        "outputId": "8abc3094-f5e7-4e0e-a1af-807bbcd06c3e"
      },
      "execution_count": 32,
      "outputs": [
        {
          "output_type": "stream",
          "name": "stdout",
          "text": [
            "\n",
            "Outliers detected using IQR with median data:\n",
            " age                         0\n",
            "BMI                        11\n",
            "Children                    0\n",
            "health_insurance_price    141\n",
            "dtype: int64\n",
            "\n",
            "Outliers detected using IQR with original data :\n",
            " age                         0\n",
            "BMI                         9\n",
            "Children                    0\n",
            "health_insurance_price    141\n",
            "dtype: int64\n"
          ]
        }
      ]
    },
    {
      "cell_type": "markdown",
      "source": [
        "Removing Outliers using IQR (Interquartile Range)"
      ],
      "metadata": {
        "id": "lELFw5czXwhz"
      }
    },
    {
      "cell_type": "code",
      "source": [
        "# Define lower and upper bounds\n",
        "lower_bound = Q1 - 1.5 * IQR\n",
        "upper_bound = Q3 + 1.5 * IQR\n",
        "\n",
        "# Identify outliers\n",
        "outliers_mask = (numeric_col < lower_bound) | (numeric_col > upper_bound)\n",
        "\n",
        "# Filter out outliers\n",
        "hdf_iqr = hdf_median[~outliers_mask.any(axis=1)]\n",
        "\n",
        "print(\"Original Data Shape:\", hdf_median.shape)\n",
        "print(\"After IQR Outlier Removal:\", hdf_iqr.shape)\n"
      ],
      "metadata": {
        "colab": {
          "base_uri": "https://localhost:8080/"
        },
        "id": "Jq6YCs4qU8Ds",
        "outputId": "28d72ed9-3dea-4b12-bb08-063aef748809"
      },
      "execution_count": 33,
      "outputs": [
        {
          "output_type": "stream",
          "name": "stdout",
          "text": [
            "Original Data Shape: (1337, 7)\n",
            "After IQR Outlier Removal: (1190, 7)\n"
          ]
        }
      ]
    },
    {
      "cell_type": "markdown",
      "source": [
        "Winsorization for Outliners."
      ],
      "metadata": {
        "id": "49YAz7j_a0Tq"
      }
    },
    {
      "cell_type": "code",
      "source": [
        "from scipy.stats.mstats import winsorize\n",
        "\n",
        "# Creating an copy of median imputed data-set.\n",
        "hdf_winsor = hdf_median.copy()\n",
        "\n",
        "# Apply Winsorization to numerical columns (capping extreme values at 5% and 95%)\n",
        "for col in hdf.select_dtypes(include=['number']).columns:\n",
        "    hdf_winsor[col] = winsorize(hdf_median[col], limits=[0.05, 0.05])\n",
        "# Comparing shape before and after Winsorization.\n",
        "print(\"Original Data Shape:\", hdf_median.shape)\n",
        "print(\"After Winsorization (Capping):\", hdf_winsor.shape)"
      ],
      "metadata": {
        "colab": {
          "base_uri": "https://localhost:8080/"
        },
        "id": "pSFXraCla05Y",
        "outputId": "9dffa2cc-e924-47c2-a427-b3ebc5f6be53"
      },
      "execution_count": 34,
      "outputs": [
        {
          "output_type": "stream",
          "name": "stdout",
          "text": [
            "Original Data Shape: (1337, 7)\n",
            "After Winsorization (Capping): (1337, 7)\n"
          ]
        }
      ]
    },
    {
      "cell_type": "markdown",
      "source": [
        "***Scaling***"
      ],
      "metadata": {
        "id": "FMm_nu6_i1vr"
      }
    },
    {
      "cell_type": "markdown",
      "source": [
        "Here by using 'hdf_winsor' data-set because it caps the data and no loss of data.where winsorization is done with Median imputed data-set."
      ],
      "metadata": {
        "id": "kxYeTwE4i6pa"
      }
    },
    {
      "cell_type": "code",
      "source": [
        "from sklearn.preprocessing import MinMaxScaler, StandardScaler, RobustScaler\n",
        "\n",
        "#Create separate copies of the dataset for each scaling method\n",
        "hdf_minmax = hdf_winsor.copy()\n",
        "hdf_standard = hdf_winsor.copy()\n",
        "hdf_robust = hdf_winsor.copy()"
      ],
      "metadata": {
        "id": "_qeVH4OPj1VR"
      },
      "execution_count": 35,
      "outputs": []
    },
    {
      "cell_type": "markdown",
      "source": [
        "Selecting only numerical columns for scaling\n"
      ],
      "metadata": {
        "id": "tuD3cuUVkL1U"
      }
    },
    {
      "cell_type": "code",
      "source": [
        "num_cols = hdf_winsor.select_dtypes(include=['number']).columns"
      ],
      "metadata": {
        "id": "w50SAvzqkcgy"
      },
      "execution_count": 36,
      "outputs": []
    },
    {
      "cell_type": "markdown",
      "source": [
        "# ***Using Min-Max Scalar with Winsorization for Train_Test and Model selection to train***\n"
      ],
      "metadata": {
        "id": "Qe_PhgDRBl26"
      }
    },
    {
      "cell_type": "markdown",
      "source": [
        "# **Data analysis approach:**\n"
      ],
      "metadata": {
        "id": "tbQ0bJTdtgiu"
      }
    },
    {
      "cell_type": "markdown",
      "source": [
        "**a. What approach are you going to take to prove or disprove your hypothesis?**\n",
        "\n",
        "\n",
        "*  Exploratory Data Analysis (EDA) is performed. To visually and statistically analyze the relationships between features and insurance charges.\n",
        "\n",
        "\n",
        "\n",
        "*  Statistical correlation and visual tools like histograms, boxplots, and heatmaps  helped in testing if higher charges are indeed associated with factors like children, higher BMI, and age.\n",
        "\n",
        "\n",
        "*  Modeling: In machine learning models  identifed features are important  that supports the hypothesis.\n",
        "\n",
        "\n",
        "**b. What feature engineering techniques will be relevant to your project?**\n",
        "\n",
        "\n",
        "*   Encoding categorical variables: sex, smoker, and region are encoded using One-Hot Encoding to make them usable in machine learning models.\n",
        "\n",
        "*  Scaling numerical variables: age, bmi, and children are scaled using StandardScaler, RobustScaler and Min-MaxScaler to normalize their influence, especially for models sensitive to scale like Linear Regression.\n",
        "*   Handling missing values:age and bmi are imputed with median values.\n",
        "    charges: rows with missing values are dropped, as it's the target.\n",
        "\n",
        "**c. Please justify your data analysis approach.**\n",
        "\n",
        "1.It begins with a data cleaning step, ensuring the dataset is usable and consistent.\n",
        "\n",
        "2.EDA helps reveal patterns, trends, and outliers in the data, guiding feature selection and transformation.\n",
        "\n",
        "3.Feature engineering enhances the model ability to understand relationships.\n",
        "\n",
        "4.Multiple machine learning models are used to validate if the discovered relationships hold true under different algorithms, ensuring robust results.\n",
        "\n",
        "**d. Identify essential patterns in your data using the EDA approach to justify your findings.**\n",
        "\n",
        "\n",
        "\n",
        "\n",
        "\n"
      ],
      "metadata": {
        "id": "WOYylhm3wD36"
      }
    },
    {
      "cell_type": "code",
      "source": [
        "# Create plots\n",
        "fig, axes = plt.subplots(2, 2, figsize=(18, 18))\n",
        "\n",
        "#  Charges by Smoking Status\n",
        "sns.boxplot(data=hdf_robust, x='smoking_status', y='health_insurance_price', ax=axes[0, 0])\n",
        "axes[0, 0].set_title('Charges by Smoking Status')\n",
        "\n",
        "# Average Charges by Number of Children\n",
        "sns.barplot(data=hdf_robust, x='Children', y='health_insurance_price', estimator=np.mean, ax=axes[0, 1])\n",
        "axes[0, 1].set_title('Average Charges by Number of Children')\n",
        "\n",
        "# Charges by Region\n",
        "sns.boxplot(data=hdf_robust, x='location', y='health_insurance_price', ax=axes[1, 0])\n",
        "axes[1, 0].set_title('Charges by Region')\n",
        "\n",
        "#  Charges by Sex\n",
        "sns.boxplot(data=hdf_robust, x='gender', y='health_insurance_price', ax=axes[1, 1])\n",
        "axes[1, 1].set_title('Charges by gender')\n",
        "\n",
        "plt.tight_layout()\n",
        "plt.show()\n",
        "\n",
        "\n",
        "# Charges by Age (Lineplot)\n",
        "avg_charges_by_age = hdf_robust.groupby(\"age\")[\"health_insurance_price\"].mean().reset_index()\n",
        "sns.lineplot(data=avg_charges_by_age, x=\"age\", y=\"health_insurance_price\")\n",
        "plt.title(\"Average Insurance Charges by Age\")\n",
        "plt.xlabel(\"Age\")\n",
        "plt.ylabel(\"Average Charges\")\n",
        "plt.show()\n",
        "\n",
        "#  Charges by BMI (Lineplot)\n",
        "avg_charges_by_age = hdf_robust.groupby(\"BMI\")[\"health_insurance_price\"].mean().reset_index()\n",
        "sns.lineplot(data=avg_charges_by_age, x=\"BMI\", y=\"health_insurance_price\")\n",
        "plt.title(\"Average Insurance Charges by BMI\")\n",
        "plt.xlabel(\"BMI\")\n",
        "plt.ylabel(\"Average Charges\")\n",
        "plt.show()\n"
      ],
      "metadata": {
        "colab": {
          "base_uri": "https://localhost:8080/",
          "height": 1000
        },
        "id": "sNRtJpba62i1",
        "outputId": "12356d2c-dad5-4d88-d61a-d36ad5ae211b"
      },
      "execution_count": 45,
      "outputs": [
        {
          "output_type": "display_data",
          "data": {
            "text/plain": [
              "<Figure size 1800x1800 with 4 Axes>"
            ],
            "image/png": "[encoded data removed]"
          },
          "metadata": {}
        },
        {
          "output_type": "display_data",
          "data": {
            "text/plain": [
              "<Figure size 640x480 with 1 Axes>"
            ],
            "image/png": "[encoded data removed]"
          },
          "metadata": {}
        },
        {
          "output_type": "display_data",
          "data": {
            "text/plain": [
              "<Figure size 640x480 with 1 Axes>"
            ],
            "image/png": "[encoded data removed]"
          },
          "metadata": {}
        }
      ]
    },
    {
      "cell_type": "markdown",
      "source": [],
      "metadata": {
        "id": "c9z0AfWra1IT"
      }
    },
    {
      "cell_type": "code",
      "source": [
        "hdf_robust.hist(figsize=(12, 10), bins=30)\n",
        "plt.suptitle(\"Feature Distributions\", fontsize=16)\n",
        "plt.show()"
      ],
      "metadata": {
        "colab": {
          "base_uri": "https://localhost:8080/",
          "height": 930
        },
        "id": "cuXoiEcldjae",
        "outputId": "19e0708b-c89f-4001-c121-66f6e3dc87ee"
      },
      "execution_count": 46,
      "outputs": [
        {
          "output_type": "display_data",
          "data": {
            "text/plain": [
              "<Figure size 1200x1000 with 4 Axes>"
            ],
            "image/png": "[encoded data removed]"
          },
          "metadata": {}
        }
      ]
    },
    {
      "cell_type": "markdown",
      "source": [
        "# ***Machine learning approach***\n",
        "\n",
        "**a. What method will you use for machine learning-based predictions of health insurance price?**\n",
        "\n",
        "Methods Used:\n",
        "1.Linear Regression          \n",
        "2.Random Forest          \n",
        "3.Decision Tree         \n",
        "4.Polynomial Regression.\n",
        "\n",
        "\n",
        "**b. Please justify the most appropriate model.**\n",
        "\n",
        "Random Forest usually perform better due to Capturing non-linearities,\n",
        "Handling outliers and feature importance well.\n",
        "\n",
        "\n",
        "**c. Please perform the necessary steps required to improve the accuracy of your model.**\n",
        "\n",
        "Feature scaling,\n",
        "Outlier removal.\n",
        "\n",
        "**d. Please compare all models (at least four models).**\n",
        "\n",
        "WINSORIZATION DATA FOR SCALING AND MODELING\n",
        "\n",
        "            Model |  MSE_MINMAX | MSE_STANDARD | MSE_ROBUST\n",
        "\n",
        "  Decision Tree   |   0.028082 |     0.352753  |  0.352753\n",
        "\n",
        "  Polynomial Regression|0.019907  |   0.252453  |  0.252453\n",
        "\n",
        "  Linear Regression  |  0.019745  |   0.242244  |  0.242244\n",
        "\n",
        "  Random Forest |   0.013888 |     0.170397 |   0.170397\n",
        "\n",
        "\n",
        "\n"
      ],
      "metadata": {
        "id": "JEB9DAW82y1I"
      }
    },
    {
      "cell_type": "markdown",
      "source": [
        "Using Min-Max Scalar with Winsorization for Train_Test and Model selection to train."
      ],
      "metadata": {
        "id": "zUcX6t_nG1iQ"
      }
    },
    {
      "cell_type": "code",
      "source": [
        "from sklearn.model_selection import train_test_split\n",
        "from sklearn.ensemble import RandomForestRegressor\n",
        "from sklearn.preprocessing import MinMaxScaler\n",
        "import joblib\n",
        "import pandas as pd\n",
        "\n",
        "# 1. One-hot encode categorical columns\n",
        "df_encoded = pd.get_dummies(hdf_minmax, columns=['gender', 'smoking_status', 'location'], drop_first=True)\n",
        "\n",
        "# 2. Split features and target\n",
        "X = df_encoded.drop(columns='health_insurance_price')\n",
        "y = df_encoded['health_insurance_price']\n",
        "\n",
        "# 3. Train-test split (MUST be before scaling)\n",
        "X_train, X_test, y_train, y_test = train_test_split(X, y, test_size=0.2, random_state=42)\n",
        "\n",
        "# 4. Scale only numerical columns\n",
        "scaler = MinMaxScaler()\n",
        "X_train[['age', 'BMI', 'Children']] = scaler.fit_transform(X_train[['age', 'BMI', 'Children']])\n",
        "X_test[['age', 'BMI', 'Children']] = scaler.transform(X_test[['age', 'BMI', 'Children']])\n",
        "\n",
        "# 5. Train the model\n",
        "model = RandomForestRegressor(random_state=42)\n",
        "model.fit(X_train, y_train)\n",
        "\n",
        "# 6. Save model and scaler\n",
        "joblib.dump(model, \"insurance_model.pkl\")\n",
        "joblib.dump(scaler, \"scaler.pkl\")\n",
        "\n",
        "print(\"✅ Model and scaler saved successfully.\")\n"
      ],
      "metadata": {
        "colab": {
          "base_uri": "https://localhost:8080/"
        },
        "id": "vrV_XsONl6I0",
        "outputId": "69b6a32f-9ca6-4e96-ecf1-7de3745406dc"
      },
      "execution_count": 47,
      "outputs": [
        {
          "output_type": "stream",
          "name": "stdout",
          "text": [
            "✅ Model and scaler saved successfully.\n"
          ]
        }
      ]
    },
    {
      "cell_type": "code",
      "source": [
        "import os\n",
        "\n",
        "print(\"Model saved:\", os.path.exists(\"insurance_model.pkl\"))\n",
        "print(\"Scaler saved:\", os.path.exists(\"scaler.pkl\"))"
      ],
      "metadata": {
        "colab": {
          "base_uri": "https://localhost:8080/"
        },
        "id": "f5lUQfQv_LAM",
        "outputId": "2756fb9f-3392-48ff-fe04-c4f8cc1ed906"
      },
      "execution_count": 39,
      "outputs": [
        {
          "output_type": "stream",
          "name": "stdout",
          "text": [
            "Model saved: True\n",
            "Scaler saved: True\n"
          ]
        }
      ]
    },
    {
      "cell_type": "code",
      "source": [
        "!ls"
      ],
      "metadata": {
        "colab": {
          "base_uri": "https://localhost:8080/"
        },
        "id": "lx7EsdSeJtwf",
        "outputId": "fafc6eb2-90a1-41d8-ac1a-2b2b82876a43"
      },
      "execution_count": null,
      "outputs": [
        {
          "output_type": "stream",
          "name": "stdout",
          "text": [
            "'4021579-Health_insurance_cost (2).xlsx'   sample_data\n",
            " insurance_model.pkl\t\t\t   scaler.pkl\n"
          ]
        }
      ]
    },
    {
      "cell_type": "markdown",
      "source": [
        "Downloading Pickel files to System."
      ],
      "metadata": {
        "id": "ePU6pqkpoVrz"
      }
    },
    {
      "cell_type": "code",
      "source": [
        "from google.colab import files\n",
        "files.download(\"insurance_model.pkl\")\n",
        "files.download(\"scaler.pkl\")"
      ],
      "metadata": {
        "colab": {
          "base_uri": "https://localhost:8080/",
          "height": 17
        },
        "id": "RZosuL5-KPli",
        "outputId": "a0dcb3ae-180e-44c9-eb60-5cb4334e47e2"
      },
      "execution_count": 40,
      "outputs": [
        {
          "output_type": "display_data",
          "data": {
            "text/plain": [
              "<IPython.core.display.Javascript object>"
            ],
            "application/javascript": [
              "\n",
              "    async function download(id, filename, size) {\n",
              "      if (!google.colab.kernel.accessAllowed) {\n",
              "        return;\n",
              "      }\n",
              "      const div = document.createElement('div');\n",
              "      const label = document.createElement('label');\n",
              "      label.textContent = `Downloading \"${filename}\": `;\n",
              "      div.appendChild(label);\n",
              "      const progress = document.createElement('progress');\n",
              "      progress.max = size;\n",
              "      div.appendChild(progress);\n",
              "      document.body.appendChild(div);\n",
              "\n",
              "      const buffers = [];\n",
              "      let downloaded = 0;\n",
              "\n",
              "      const channel = await google.colab.kernel.comms.open(id);\n",
              "      // Send a message to notify the kernel that we're ready.\n",
              "      channel.send({})\n",
              "\n",
              "      for await (const message of channel.messages) {\n",
              "        // Send a message to notify the kernel that we're ready.\n",
              "        channel.send({})\n",
              "        if (message.buffers) {\n",
              "          for (const buffer of message.buffers) {\n",
              "            buffers.push(buffer);\n",
              "            downloaded += buffer.byteLength;\n",
              "            progress.value = downloaded;\n",
              "          }\n",
              "        }\n",
              "      }\n",
              "      const blob = new Blob(buffers, {type: 'application/binary'});\n",
              "      const a = document.createElement('a');\n",
              "      a.href = window.URL.createObjectURL(blob);\n",
              "      a.download = filename;\n",
              "      div.appendChild(a);\n",
              "      a.click();\n",
              "      div.remove();\n",
              "    }\n",
              "  "
            ]
          },
          "metadata": {}
        },
        {
          "output_type": "display_data",
          "data": {
            "text/plain": [
              "<IPython.core.display.Javascript object>"
            ],
            "application/javascript": [
              "download(\"download_4c5130d1-b152-472c-93ee-05b963fdf047\", \"insurance_model.pkl\", 9149393)"
            ]
          },
          "metadata": {}
        },
        {
          "output_type": "display_data",
          "data": {
            "text/plain": [
              "<IPython.core.display.Javascript object>"
            ],
            "application/javascript": [
              "\n",
              "    async function download(id, filename, size) {\n",
              "      if (!google.colab.kernel.accessAllowed) {\n",
              "        return;\n",
              "      }\n",
              "      const div = document.createElement('div');\n",
              "      const label = document.createElement('label');\n",
              "      label.textContent = `Downloading \"${filename}\": `;\n",
              "      div.appendChild(label);\n",
              "      const progress = document.createElement('progress');\n",
              "      progress.max = size;\n",
              "      div.appendChild(progress);\n",
              "      document.body.appendChild(div);\n",
              "\n",
              "      const buffers = [];\n",
              "      let downloaded = 0;\n",
              "\n",
              "      const channel = await google.colab.kernel.comms.open(id);\n",
              "      // Send a message to notify the kernel that we're ready.\n",
              "      channel.send({})\n",
              "\n",
              "      for await (const message of channel.messages) {\n",
              "        // Send a message to notify the kernel that we're ready.\n",
              "        channel.send({})\n",
              "        if (message.buffers) {\n",
              "          for (const buffer of message.buffers) {\n",
              "            buffers.push(buffer);\n",
              "            downloaded += buffer.byteLength;\n",
              "            progress.value = downloaded;\n",
              "          }\n",
              "        }\n",
              "      }\n",
              "      const blob = new Blob(buffers, {type: 'application/binary'});\n",
              "      const a = document.createElement('a');\n",
              "      a.href = window.URL.createObjectURL(blob);\n",
              "      a.download = filename;\n",
              "      div.appendChild(a);\n",
              "      a.click();\n",
              "      div.remove();\n",
              "    }\n",
              "  "
            ]
          },
          "metadata": {}
        },
        {
          "output_type": "display_data",
          "data": {
            "text/plain": [
              "<IPython.core.display.Javascript object>"
            ],
            "application/javascript": [
              "download(\"download_b00dacc7-bbf2-46f8-9618-cc74d8c0711b\", \"scaler.pkl\", 1071)"
            ]
          },
          "metadata": {}
        }
      ]
    },
    {
      "cell_type": "markdown",
      "source": [
        "# Manual List\n"
      ],
      "metadata": {
        "id": "tla01hdPoMhs"
      }
    },
    {
      "cell_type": "code",
      "source": [
        "test_input = pd.DataFrame([{\n",
        "    'age': 0.6,\n",
        "    'BMI': 0.6,\n",
        "    'Children': 0.0,\n",
        "    'gender_male': 1,\n",
        "    'smoking_status_yes': 0,\n",
        "    'location_northwest': 0,\n",
        "    'location_southeast': 1,\n",
        "    'location_southwest': 0\n",
        "}])\n",
        "\n",
        "prediction = model.predict(test_input)\n",
        "print(\"Predicted Price:\", prediction)\n"
      ],
      "metadata": {
        "colab": {
          "base_uri": "https://localhost:8080/"
        },
        "id": "hRI_IaA4wbgo",
        "outputId": "6d5ce372-30e3-4c1c-95fc-d76d02af5a61"
      },
      "execution_count": 50,
      "outputs": [
        {
          "output_type": "stream",
          "name": "stdout",
          "text": [
            "Predicted Price: [9566.624406]\n"
          ]
        }
      ]
    }
  ]
}